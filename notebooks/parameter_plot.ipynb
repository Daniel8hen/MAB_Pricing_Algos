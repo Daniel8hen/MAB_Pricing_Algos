{
 "cells": [
  {
   "cell_type": "code",
   "execution_count": 1,
   "id": "c0b9fb45",
   "metadata": {},
   "outputs": [],
   "source": [
    "import pandas as pd\n",
    "import matplotlib.pyplot as plt\n",
    "import sys\n",
    "from datetime import datetime\n",
    "import random\n",
    "import numpy as np\n",
    "\n",
    "sys.path.append(\"../src\")\n",
    "%matplotlib inline\n",
    "%load_ext autoreload\n",
    "%autoreload 2"
   ]
  },
  {
   "cell_type": "code",
   "execution_count": 2,
   "id": "c2859cb6",
   "metadata": {},
   "outputs": [],
   "source": [
    "from real_data_desired_win_rate_reward import ProbabilityModel, BetaBernoulli, BiddingStrategy"
   ]
  },
  {
   "cell_type": "code",
   "execution_count": 6,
   "id": "d80398e9",
   "metadata": {},
   "outputs": [
    {
     "data": {
      "text/html": [
       "<div>\n",
       "<style scoped>\n",
       "    .dataframe tbody tr th:only-of-type {\n",
       "        vertical-align: middle;\n",
       "    }\n",
       "\n",
       "    .dataframe tbody tr th {\n",
       "        vertical-align: top;\n",
       "    }\n",
       "\n",
       "    .dataframe thead th {\n",
       "        text-align: right;\n",
       "    }\n",
       "</style>\n",
       "<table border=\"1\" class=\"dataframe\">\n",
       "  <thead>\n",
       "    <tr style=\"text-align: right;\">\n",
       "      <th></th>\n",
       "      <th>sessionId</th>\n",
       "      <th>eventTimestamp</th>\n",
       "      <th>adNetworkId</th>\n",
       "      <th>bidPrice</th>\n",
       "      <th>hasWon</th>\n",
       "      <th>size</th>\n",
       "      <th>placementType</th>\n",
       "    </tr>\n",
       "  </thead>\n",
       "  <tbody>\n",
       "    <tr>\n",
       "      <th>0</th>\n",
       "      <td>7328489402416276563</td>\n",
       "      <td>1621279594339</td>\n",
       "      <td>173</td>\n",
       "      <td>8.595383</td>\n",
       "      <td>1</td>\n",
       "      <td>480x320</td>\n",
       "      <td>rewarded</td>\n",
       "    </tr>\n",
       "    <tr>\n",
       "      <th>1</th>\n",
       "      <td>6011386765000368987</td>\n",
       "      <td>1621279528648</td>\n",
       "      <td>508</td>\n",
       "      <td>7.998000</td>\n",
       "      <td>1</td>\n",
       "      <td>320x480</td>\n",
       "      <td>rewarded</td>\n",
       "    </tr>\n",
       "    <tr>\n",
       "      <th>2</th>\n",
       "      <td>6367414109706735982</td>\n",
       "      <td>1621279599874</td>\n",
       "      <td>194</td>\n",
       "      <td>0.089800</td>\n",
       "      <td>1</td>\n",
       "      <td>320x50</td>\n",
       "      <td>banner</td>\n",
       "    </tr>\n",
       "    <tr>\n",
       "      <th>3</th>\n",
       "      <td>6603134055923190320</td>\n",
       "      <td>1621279553521</td>\n",
       "      <td>675</td>\n",
       "      <td>0.361505</td>\n",
       "      <td>1</td>\n",
       "      <td>320x50</td>\n",
       "      <td>banner</td>\n",
       "    </tr>\n",
       "    <tr>\n",
       "      <th>4</th>\n",
       "      <td>8572550066872572860</td>\n",
       "      <td>1621279562240</td>\n",
       "      <td>332</td>\n",
       "      <td>0.132451</td>\n",
       "      <td>1</td>\n",
       "      <td>728x90</td>\n",
       "      <td>banner</td>\n",
       "    </tr>\n",
       "    <tr>\n",
       "      <th>...</th>\n",
       "      <td>...</td>\n",
       "      <td>...</td>\n",
       "      <td>...</td>\n",
       "      <td>...</td>\n",
       "      <td>...</td>\n",
       "      <td>...</td>\n",
       "      <td>...</td>\n",
       "    </tr>\n",
       "    <tr>\n",
       "      <th>518735</th>\n",
       "      <td>7920770263731164916</td>\n",
       "      <td>1621256325973</td>\n",
       "      <td>731</td>\n",
       "      <td>1.701674</td>\n",
       "      <td>0</td>\n",
       "      <td>320x480</td>\n",
       "      <td>interstitial</td>\n",
       "    </tr>\n",
       "    <tr>\n",
       "      <th>518736</th>\n",
       "      <td>7920770263731164916</td>\n",
       "      <td>1621256325973</td>\n",
       "      <td>748</td>\n",
       "      <td>7.920000</td>\n",
       "      <td>0</td>\n",
       "      <td>320x480</td>\n",
       "      <td>interstitial</td>\n",
       "    </tr>\n",
       "    <tr>\n",
       "      <th>518737</th>\n",
       "      <td>7920770263731164916</td>\n",
       "      <td>1621256325973</td>\n",
       "      <td>750</td>\n",
       "      <td>8.080000</td>\n",
       "      <td>0</td>\n",
       "      <td>320x480</td>\n",
       "      <td>interstitial</td>\n",
       "    </tr>\n",
       "    <tr>\n",
       "      <th>518738</th>\n",
       "      <td>7920770263731164916</td>\n",
       "      <td>1621256325973</td>\n",
       "      <td>247</td>\n",
       "      <td>1.228270</td>\n",
       "      <td>0</td>\n",
       "      <td>320x480</td>\n",
       "      <td>interstitial</td>\n",
       "    </tr>\n",
       "    <tr>\n",
       "      <th>518739</th>\n",
       "      <td>7920770263731164916</td>\n",
       "      <td>1621256325973</td>\n",
       "      <td>252</td>\n",
       "      <td>5.904430</td>\n",
       "      <td>0</td>\n",
       "      <td>320x480</td>\n",
       "      <td>interstitial</td>\n",
       "    </tr>\n",
       "  </tbody>\n",
       "</table>\n",
       "<p>518740 rows × 7 columns</p>\n",
       "</div>"
      ],
      "text/plain": [
       "                  sessionId  eventTimestamp  adNetworkId  bidPrice  hasWon  \\\n",
       "0       7328489402416276563   1621279594339          173  8.595383       1   \n",
       "1       6011386765000368987   1621279528648          508  7.998000       1   \n",
       "2       6367414109706735982   1621279599874          194  0.089800       1   \n",
       "3       6603134055923190320   1621279553521          675  0.361505       1   \n",
       "4       8572550066872572860   1621279562240          332  0.132451       1   \n",
       "...                     ...             ...          ...       ...     ...   \n",
       "518735  7920770263731164916   1621256325973          731  1.701674       0   \n",
       "518736  7920770263731164916   1621256325973          748  7.920000       0   \n",
       "518737  7920770263731164916   1621256325973          750  8.080000       0   \n",
       "518738  7920770263731164916   1621256325973          247  1.228270       0   \n",
       "518739  7920770263731164916   1621256325973          252  5.904430       0   \n",
       "\n",
       "           size placementType  \n",
       "0       480x320      rewarded  \n",
       "1       320x480      rewarded  \n",
       "2        320x50        banner  \n",
       "3        320x50        banner  \n",
       "4        728x90        banner  \n",
       "...         ...           ...  \n",
       "518735  320x480  interstitial  \n",
       "518736  320x480  interstitial  \n",
       "518737  320x480  interstitial  \n",
       "518738  320x480  interstitial  \n",
       "518739  320x480  interstitial  \n",
       "\n",
       "[518740 rows x 7 columns]"
      ]
     },
     "execution_count": 6,
     "metadata": {},
     "output_type": "execute_result"
    }
   ],
   "source": [
    "df = pd.read_csv(\"../data/data.csv\")\n",
    "df"
   ]
  },
  {
   "cell_type": "code",
   "execution_count": 19,
   "id": "579177c0",
   "metadata": {},
   "outputs": [],
   "source": [
    "cls = BetaBernoulli(1, 1000)  # Defining an instance of this BetaBernoulli with 1 win, 1000 loses as our prior\n",
    "df = pd.read_csv(\"../data/data.csv\")\n",
    "df = df.query(\"placementType == 'interstitial'\")\n",
    "max_data_point = 20  # max value of bins\n",
    "n_bins=1000\n",
    "desired_win_rate=0.5"
   ]
  },
  {
   "cell_type": "code",
   "execution_count": null,
   "id": "ebfe4e00",
   "metadata": {},
   "outputs": [],
   "source": []
  },
  {
   "cell_type": "code",
   "execution_count": 20,
   "id": "899f570a",
   "metadata": {},
   "outputs": [
    {
     "data": {
      "text/plain": [
       "(0.0, 20.0)"
      ]
     },
     "execution_count": 20,
     "metadata": {},
     "output_type": "execute_result"
    },
    {
     "data": {
      "image/png": "[encoded data removed]",
      "text/plain": [
       "<Figure size 432x288 with 1 Axes>"
      ]
     },
     "metadata": {
      "needs_background": "light"
     },
     "output_type": "display_data"
    }
   ],
   "source": [
    "df.head(2000)['bidPrice'].hist(bins=1000)\n",
    "plt.xlim(0, max_data_point)"
   ]
  },
  {
   "cell_type": "code",
   "execution_count": 21,
   "id": "bdb397da",
   "metadata": {},
   "outputs": [
    {
     "name": "stdout",
     "output_type": "stream",
     "text": [
      "Init done\n",
      "Prior learnt\n",
      "Simulation Start: 05/18/2021, 16:58:58\n",
      "Regret: 6.323046764001476\n"
     ]
    }
   ],
   "source": [
    "format = \"%m/%d/%Y, %H:%M:%S\"\n",
    "biddingStrategy = BiddingStrategy(n_bins=n_bins, max_bid=max_data_point, priors=[1]*n_bins, classifier=cls, desired_win_rate=desired_win_rate)\n",
    "print (\"Init done\")\n",
    "biddingStrategy.learn_priors(df, 1)\n",
    "print (\"Prior learnt\")\n",
    "print(\"Simulation Start:\", datetime.now().strftime(format))\n",
    "regret_arr, mean_regret = biddingStrategy.simulate_by_real_dataset(df.head(2000), 0.99)\n",
    "print(\"Regret:\", mean_regret)\n",
    "# print(regret_arr)"
   ]
  },
  {
   "cell_type": "code",
   "execution_count": null,
   "id": "9bd36f41",
   "metadata": {},
   "outputs": [],
   "source": [
    "for p,m in biddingStrategy.bid_model.items():\n",
    "    print (\"{p:0.3f} {t:0.2f} {f:0.2f}\".format(p=p,t=m.prior_T,f=m.prior_F))"
   ]
  },
  {
   "cell_type": "code",
   "execution_count": null,
   "id": "f32da367",
   "metadata": {},
   "outputs": [],
   "source": [
    "normalized_prbs_arr = list(biddingStrategy.parameters().values())\n",
    "normalized_prbs_arr = biddingStrategy.normalize_probs(normalized_prbs_arr)\n",
    "plt.bar(biddingStrategy.parameters().keys(),normalized_prbs_arr)"
   ]
  },
  {
   "cell_type": "code",
   "execution_count": null,
   "id": "a4053f62",
   "metadata": {},
   "outputs": [],
   "source": [
    "X = regret_arr\n",
    "w=15\n",
    "X  =np.convolve(X, np.ones(w), 'valid') / w\n",
    "plt.plot(X)\n",
    "plt.ylim((0,1))\n",
    "plt.title(\"regret over time\")"
   ]
  },
  {
   "cell_type": "code",
   "execution_count": null,
   "id": "5ce9610b",
   "metadata": {},
   "outputs": [],
   "source": [
    "reward_arr = []\n",
    "bids_arr = []\n",
    "win_lose_arr = []\n",
    "probs_arr = []\n",
    "params_arr = []\n",
    "regret = 0\n",
    "n_trials = 100\n",
    "\n",
    "T_arr, F_arr = [], []\n",
    "\n",
    "for i in range(0, n_trials):\n",
    "    # b = biddingStrategy.bid([i]) # [i] is context, not used for now\n",
    "    b = random.random()\n",
    "    print(\"bid is:\", b)\n",
    "    normalized_prbs_arr = list(biddingStrategy.parameters().values())\n",
    "    normalized_prbs_arr = biddingStrategy.normalize_probs(normalized_prbs_arr)\n",
    "    params_arr.append(normalized_prbs_arr)\n",
    "    \n",
    "    auction_bid = 0.4 + (random.random() - 0.5) * 2 * 0.1 # generating some bid for the auction\n",
    "    print(\"auction bid is:\", auction_bid)\n",
    "    \n",
    "    bids_arr.append(b)\n",
    "    win = b > auction_bid\n",
    "    win_lose_arr.append(win)\n",
    "    regret += np.abs(b - auction_bid)\n",
    "    \n",
    "    biddingStrategy.discount(0.99)\n",
    "    \n",
    "    r = biddingStrategy.reward(bid_price=b, won=win, context=[i])\n",
    "    probs_arr.append(biddingStrategy.probabilities)\n",
    "    reward_arr.append(r)\n",
    "    \n",
    "    # plot\n",
    "    plt.bar(biddingStrategy.bid_model.keys(),params_arr[i])\n",
    "    plt.plot(biddingStrategy.bid_model.keys(), np.ones(n_bins)*desired_win_rate, c='red')\n",
    "    plt.show()\n",
    "    \n",
    "\n",
    "print(regret / n_trials)"
   ]
  },
  {
   "cell_type": "code",
   "execution_count": null,
   "id": "f9bb14b9",
   "metadata": {},
   "outputs": [],
   "source": [
    "# random - 0.4\n",
    "# some_base_logic_base_on_notebook_graphs - 0.29\n",
    "# our logic: 0.46-0.5"
   ]
  },
  {
   "cell_type": "code",
   "execution_count": null,
   "id": "83b2ba4f",
   "metadata": {},
   "outputs": [],
   "source": [
    "# Moving parts:\n",
    "# n samples - agg strategy\n",
    "# discount rate\n",
    "# prior - moving part\n",
    "# normalize probs\n"
   ]
  }
 ],
 "metadata": {
  "kernelspec": {
   "display_name": "Python 3",
   "language": "python",
   "name": "python3"
  },
  "language_info": {
   "codemirror_mode": {
    "name": "ipython",
    "version": 3
   },
   "file_extension": ".py",
   "mimetype": "text/x-python",
   "name": "python",
   "nbconvert_exporter": "python",
   "pygments_lexer": "ipython3",
   "version": "3.6.9"
  }
 },
 "nbformat": 4,
 "nbformat_minor": 5
}
