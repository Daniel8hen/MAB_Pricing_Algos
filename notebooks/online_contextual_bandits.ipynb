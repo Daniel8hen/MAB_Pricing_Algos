{
 "cells": [
  {
   "cell_type": "code",
   "execution_count": 1,
   "metadata": {},
   "outputs": [],
   "source": [
    "import sys\n",
    "import matplotlib.pyplot as plt\n",
    "from contextualbandits import online as cb\n",
    "from copy import deepcopy as clone\n",
    "import numpy as np\n",
    "import pandas as pd\n",
    "# The only classifiers that have partial_fit\n",
    "# See: https://scikit-learn.org/0.15/modules/scaling_strategies.html\n",
    "from sklearn.linear_model import SGDClassifier, PassiveAggressiveClassifier, Perceptron\n",
    "from sklearn.naive_bayes import MultinomialNB, BernoulliNB\n",
    "sys.path.append(\"../src\")\n",
    "\n",
    "%matplotlib inline\n",
    "from wrappers import *"
   ]
  },
  {
   "cell_type": "code",
   "execution_count": 2,
   "metadata": {},
   "outputs": [],
   "source": [
    "df = pd.read_csv(\"../data/data.csv\")\n",
    "\n",
    "df = df.query(\"placementType=='banner' and bidPrice<2 and bidPrice>0.1\").sample(frac=0.02)"
   ]
  },
  {
   "cell_type": "markdown",
   "metadata": {},
   "source": [
    "# Read data & preprocess"
   ]
  },
  {
   "cell_type": "code",
   "execution_count": 3,
   "metadata": {},
   "outputs": [],
   "source": [
    "def keep_values_by_min_freq(df, col, freq=0.9,other=\"OTHER\"):\n",
    "    ds = df[col].value_counts(normalize=True).cumsum()\n",
    "    mapped2other = []\n",
    "    marked_as_other = False\n",
    "    for val, prop in ds.iteritems():\n",
    "        if marked_as_other:\n",
    "            mapped2other.append(val)\n",
    "        if prop>freq:\n",
    "            marked_as_other=True\n",
    "    df.loc[df[col].isin(mapped2other), col]=other\n",
    "    df[col] = df[col].astype('category')\n",
    "    \n",
    "    return df"
   ]
  },
  {
   "cell_type": "code",
   "execution_count": 4,
   "metadata": {},
   "outputs": [
    {
     "name": "stderr",
     "output_type": "stream",
     "text": [
      "/home/daniel/.local/lib/python3.6/site-packages/ipykernel_launcher.py:33: SettingWithCopyWarning: \n",
      "A value is trying to be set on a copy of a slice from a DataFrame.\n",
      "Try using .loc[row_indexer,col_indexer] = value instead\n",
      "\n",
      "See the caveats in the documentation: https://pandas.pydata.org/pandas-docs/stable/user_guide/indexing.html#returning-a-view-versus-a-copy\n",
      "/home/daniel/.local/lib/python3.6/site-packages/ipykernel_launcher.py:36: SettingWithCopyWarning: \n",
      "A value is trying to be set on a copy of a slice from a DataFrame.\n",
      "Try using .loc[row_indexer,col_indexer] = value instead\n",
      "\n",
      "See the caveats in the documentation: https://pandas.pydata.org/pandas-docs/stable/user_guide/indexing.html#returning-a-view-versus-a-copy\n"
     ]
    }
   ],
   "source": [
    "def preprocess(df):\n",
    "    df = df.drop(\"sessionId\", axis=1)\n",
    "    df[\"eventTimestamp\"] = pd.to_datetime(df[\"eventTimestamp\"]*1_000_000)\n",
    "    df[\"day_of_week\"]=df[\"eventTimestamp\"].dt.weekday.astype(\"category\")\n",
    "    df[\"time_of_day\"]=df[\"eventTimestamp\"].dt.hour.astype(\"category\")\n",
    "    df.sort_values(by='eventTimestamp', inplace=True)    \n",
    "    df = df.drop(\"eventTimestamp\", axis=1)\n",
    "    for col, dtype in df.dtypes.iteritems():\n",
    "        if str(dtype) == 'object':\n",
    "            df = keep_values_by_min_freq(df, col)\n",
    "    \n",
    "    df = keep_values_by_min_freq(df, 'adNetworkId')\n",
    "    df = keep_values_by_min_freq(df, 'userTrackingAuth')\n",
    "    \n",
    "    # a, r, X for models\n",
    "    df[\"arms\"] = df[\"bidPrice\"].round(2)\n",
    "    arms = sorted(list(df[\"arms\"].unique()))\n",
    "    df[\"arms\"] = df.apply(lambda row: [a for a in arms if a>=row[\"arms\"]] if row[\"hasWon\"] else\n",
    "                          [a for a in arms if a<=row[\"arms\"]],axis=1)\n",
    "    df = df.explode(\"arms\")\n",
    "    arm_dict = {a:i for i, a in enumerate(arms)}\n",
    "    a = df[\"arms\"].map(arm_dict)\n",
    "    r = df[\"hasWon\"]\n",
    "    df = df.drop([\"bidPrice\", \"hasWon\", \"arms\", \"advertisedBundle\"] ,axis=1)\n",
    "    \n",
    "    X = pd.get_dummies(df)\n",
    "    \n",
    "    return arm_dict, X, a, r\n",
    "\n",
    "def preprocess_only_one_feature(df, feature='size'):\n",
    "    # preprocess\n",
    "    df = df[['bidPrice', 'hasWon', feature]]\n",
    "    df[\"arms\"] = df[\"bidPrice\"].round(1)\n",
    "    arms = sorted(list(df[\"arms\"].unique()))\n",
    "    df[\"arms\"] = df.apply(lambda row: [a for a in arms if a>=row[\"arms\"]] if row[\"hasWon\"] else\n",
    "                          [a for a in arms if a<=row[\"arms\"]],axis=1)\n",
    "    df = df.explode(\"arms\")\n",
    "    arm_dict = {a:i for i, a in enumerate(arms)}\n",
    "    a = df[\"arms\"].map(arm_dict)\n",
    "    r = df[\"hasWon\"]\n",
    "    df = df.drop([\"bidPrice\", \"hasWon\", \"arms\"] ,axis=1)\n",
    "    X = pd.get_dummies(df)\n",
    "    \n",
    "    return arm_dict, X, a, r\n",
    "\n",
    "\n",
    "# sample\n",
    "### Note for arms - we should know in advance, per each context, what is the maximum bid\n",
    "# e.g. for iOS, size=320x50, plc=Banner, we should know that 10 is the maximum and not create an arm for X>10...\n",
    "# Maybe - it should be calculated every X days (1 day...)\n",
    "\n",
    "# df = df.query(\"placementType=='banner' and bidPrice<1.01\").drop(\"placementType\",axis=1)\n",
    "df.drop(\"placementType\", axis=1)\n",
    "\n",
    "# X, a, r = preprocess(df)\n",
    "arm_dict, X, a, r = preprocess_only_one_feature(df)"
   ]
  },
  {
   "cell_type": "markdown",
   "metadata": {},
   "source": [
    "# Contextual bandits"
   ]
  },
  {
   "cell_type": "code",
   "execution_count": 5,
   "metadata": {},
   "outputs": [],
   "source": [
    "class ModelWithDesiredWinRate(BernoulliNB):\n",
    "    def predict_proba(self, X):\n",
    "        probs = super().predict_proba(X)[:, 1] # predict proba as of any predict_proba model classifier\n",
    "        y = 1 / np.abs(probs - desired_win_rate + 0.0001) # Numerical stability\n",
    "        c = 1e-3\n",
    "        y = 1 - np.exp(-y*c) # Normalize\n",
    "        ret = np.vstack((1-y, y)).T\n",
    "\n",
    "        return ret"
   ]
  },
  {
   "cell_type": "code",
   "execution_count": 6,
   "metadata": {
    "scrolled": true
   },
   "outputs": [],
   "source": [
    "n_arms = len(arm_dict)\n",
    "bids = {v:k for k,v in arm_dict.items()}\n",
    "# base_model = SGDClassifierWithNormalization(loss='log')\n",
    "base_model = ModelWithDesiredWinRate()\n",
    "# base_model = BernoulliNB()\n",
    "desired_win_rate=0.9\n",
    "logreg_sg = cb.SeparateClassifiers(clone(base_model), n_arms, batch_train=True)"
   ]
  },
  {
   "cell_type": "code",
   "execution_count": 7,
   "metadata": {},
   "outputs": [
    {
     "name": "stdout",
     "output_type": "stream",
     "text": [
      "<class '__main__.ModelWithDesiredWinRate'>\n"
     ]
    }
   ],
   "source": [
    "logreg_sg.partial_fit(X,a,r)\n",
    "print(type(logreg_sg._oracles.algos[0]))\n",
    "assert type(base_model) == type(logreg_sg._oracles.algos[0])\n",
    "\n",
    "# model.partial_fit(XX, aa, rr)\n",
    "# [m.coef_ for m in model._oracles.algos]"
   ]
  },
  {
   "cell_type": "code",
   "execution_count": 8,
   "metadata": {},
   "outputs": [],
   "source": [
    "# logreg_sg.fit(X,a,r)\n",
    "# [m.coef_ for m in logreg_sg._oracles.algos]"
   ]
  },
  {
   "cell_type": "code",
   "execution_count": 9,
   "metadata": {},
   "outputs": [],
   "source": [
    "def simulate(model, X, a , r, chunk = 100, limit=100):\n",
    "    X,a,r=map(clone,[X,a,r]) # copy the existing data so we won't change it\n",
    "    \n",
    "    ### TODO: Update reward with neighbor arms\n",
    "    \n",
    "    train_X, train_a, train_r = X.iloc[:chunk,:], a[:chunk], r[:chunk] \n",
    "    # split the data into train\n",
    "    # Get chunk data points for first input\n",
    "    X, a, r = X.iloc[chunk:,:], a[chunk:], r[chunk:]\n",
    "    test_X, test_a, test_r = X.iloc[:chunk,:], a[:chunk], r[:chunk]\n",
    "    n_iterations = 1\n",
    "    regrets = []\n",
    "    \n",
    "    while len(X)>chunk:\n",
    "        model.partial_fit(train_X,train_a,train_r)\n",
    "        pred_bids = model.predict(test_X)\n",
    "        regrets.append(np.sum([np.abs(bids[i]-y) for i,y in zip(pred_bids,test_r.values)])/chunk)\n",
    "        train_X, train_a, train_r    = X.iloc[:chunk,:], a[:chunk], r[:chunk]\n",
    "        X, a, r = X.iloc[chunk:,:], a[chunk:], r[chunk:]\n",
    "        test_X, test_a, test_r = X.iloc[:chunk,:], a[:chunk], r[:chunk]\n",
    "        n_iterations+=1\n",
    "        if limit>0 and limit<n_iterations:\n",
    "            break\n",
    "            \n",
    "    return regrets"
   ]
  },
  {
   "cell_type": "markdown",
   "metadata": {},
   "source": [
    "# plot"
   ]
  },
  {
   "cell_type": "code",
   "execution_count": 10,
   "metadata": {},
   "outputs": [
    {
     "data": {
      "text/plain": [
       "Text(0.5, 0, 'iterations')"
      ]
     },
     "execution_count": 10,
     "metadata": {},
     "output_type": "execute_result"
    },
    {
     "data": {
      "image/png": "[encoded data removed]",
      "text/plain": [
       "<Figure size 432x288 with 1 Axes>"
      ]
     },
     "metadata": {
      "needs_background": "light"
     },
     "output_type": "display_data"
    }
   ],
   "source": [
    "regret = simulate(logreg_sg, X, a, r)\n",
    "plt.plot(np.arange(len(regret)), regret)\n",
    "plt.ylabel(\"regret\")\n",
    "plt.xlabel(\"iterations\")"
   ]
  },
  {
   "cell_type": "code",
   "execution_count": 11,
   "metadata": {},
   "outputs": [
    {
     "name": "stdout",
     "output_type": "stream",
     "text": [
      "Index(['size_300x250', 'size_320x50', 'size_728x90'], dtype='object')\n"
     ]
    },
    {
     "data": {
      "text/plain": [
       "{'choice': array([10, 10,  7]),\n",
       " 'score': array([[0.04858228],\n",
       "        [0.13757283],\n",
       "        [0.09197535]]),\n",
       " 'bid': [1.1, 1.1, 0.8]}"
      ]
     },
     "execution_count": 11,
     "metadata": {},
     "output_type": "execute_result"
    }
   ],
   "source": [
    "print(X.columns)\n",
    "pred = logreg_sg.predict(np.eye(3), output_score=True)\n",
    "pred[\"bid\"] = [bids[y] for y in pred['choice']]\n",
    "pred"
   ]
  },
  {
   "cell_type": "code",
   "execution_count": 12,
   "metadata": {},
   "outputs": [
    {
     "data": {
      "text/html": [
       "<div>\n",
       "<style scoped>\n",
       "    .dataframe tbody tr th:only-of-type {\n",
       "        vertical-align: middle;\n",
       "    }\n",
       "\n",
       "    .dataframe tbody tr th {\n",
       "        vertical-align: top;\n",
       "    }\n",
       "\n",
       "    .dataframe thead th {\n",
       "        text-align: right;\n",
       "    }\n",
       "</style>\n",
       "<table border=\"1\" class=\"dataframe\">\n",
       "  <thead>\n",
       "    <tr style=\"text-align: right;\">\n",
       "      <th></th>\n",
       "      <th>bidPrice</th>\n",
       "      <th>sessionId</th>\n",
       "    </tr>\n",
       "    <tr>\n",
       "      <th>placementType</th>\n",
       "      <th></th>\n",
       "      <th></th>\n",
       "    </tr>\n",
       "  </thead>\n",
       "  <tbody>\n",
       "    <tr>\n",
       "      <th>banner</th>\n",
       "      <td>0.33287</td>\n",
       "      <td>33236</td>\n",
       "    </tr>\n",
       "  </tbody>\n",
       "</table>\n",
       "</div>"
      ],
      "text/plain": [
       "               bidPrice  sessionId\n",
       "placementType                     \n",
       "banner          0.33287      33236"
      ]
     },
     "execution_count": 12,
     "metadata": {},
     "output_type": "execute_result"
    }
   ],
   "source": [
    "df.groupby(\"placementType\").agg({\"bidPrice\": np.mean, \"sessionId\": 'count'})"
   ]
  },
  {
   "cell_type": "code",
   "execution_count": 13,
   "metadata": {},
   "outputs": [
    {
     "data": {
      "text/html": [
       "<div>\n",
       "<style scoped>\n",
       "    .dataframe tbody tr th:only-of-type {\n",
       "        vertical-align: middle;\n",
       "    }\n",
       "\n",
       "    .dataframe tbody tr th {\n",
       "        vertical-align: top;\n",
       "    }\n",
       "\n",
       "    .dataframe thead th {\n",
       "        text-align: right;\n",
       "    }\n",
       "</style>\n",
       "<table border=\"1\" class=\"dataframe\">\n",
       "  <thead>\n",
       "    <tr style=\"text-align: right;\">\n",
       "      <th>hasWon</th>\n",
       "      <th>0</th>\n",
       "      <th>1</th>\n",
       "    </tr>\n",
       "    <tr>\n",
       "      <th>size</th>\n",
       "      <th></th>\n",
       "      <th></th>\n",
       "    </tr>\n",
       "  </thead>\n",
       "  <tbody>\n",
       "    <tr>\n",
       "      <th>300x250</th>\n",
       "      <td>0.370967</td>\n",
       "      <td>0.493886</td>\n",
       "    </tr>\n",
       "    <tr>\n",
       "      <th>320x50</th>\n",
       "      <td>0.301466</td>\n",
       "      <td>0.420740</td>\n",
       "    </tr>\n",
       "    <tr>\n",
       "      <th>728x90</th>\n",
       "      <td>0.264293</td>\n",
       "      <td>0.391837</td>\n",
       "    </tr>\n",
       "  </tbody>\n",
       "</table>\n",
       "</div>"
      ],
      "text/plain": [
       "hasWon          0         1\n",
       "size                       \n",
       "300x250  0.370967  0.493886\n",
       "320x50   0.301466  0.420740\n",
       "728x90   0.264293  0.391837"
      ]
     },
     "execution_count": 13,
     "metadata": {},
     "output_type": "execute_result"
    }
   ],
   "source": [
    "df.pivot_table(values=\"bidPrice\", index=\"size\", columns=\"hasWon\", aggfunc='mean')"
   ]
  },
  {
   "cell_type": "markdown",
   "metadata": {},
   "source": [
    "# Verification --to delete"
   ]
  },
  {
   "cell_type": "code",
   "execution_count": null,
   "metadata": {},
   "outputs": [],
   "source": [
    "\n",
    "import numpy as np\n",
    "from contextualbandits import online as cb\n",
    "from sklearn.naive_bayes import BernoulliNB\n",
    "n_arms = 6\n",
    "# XX = np.random.randint(2, size=(100,10))\n",
    "# aa =  np.random.randint(n_arms, size=(100))\n",
    "# rr = np.random.randint(2, size=(100))\n",
    "# XX = X.values[:10]\n",
    "# aa = a.values[:10]\n",
    "# rr = r.values[:10]\n",
    "# aa = np.array([0.2, 0.1, 0.2, 0.1, 0.4, 1.1, 0.3, 0.5, 0.6, 0.7])\n",
    "aa = np.array([1,2,3,4,5,6,7,8,9,0])\n",
    "XX = np.array([[1, 0, 0],\n",
    "       [0, 1, 0],\n",
    "       [0, 1, 0],\n",
    "       [0, 1, 0],\n",
    "       [0, 1, 0],\n",
    "       [0, 1, 0],\n",
    "       [0, 1, 0],\n",
    "       [0, 1, 0],\n",
    "       [0, 1, 0],\n",
    "       [0, 1, 0]])\n",
    "rr = np.array([0, 0, 1, 1, 1, 1, 1, 1, 1, 1])\n",
    "n_arms = len({t for t in aa})\n",
    "model = cb.SeparateClassifiers(BernoulliNB(), n_arms, batch_train=True)\n",
    "model.partial_fit(XX, aa, rr)\n",
    "[m.coef_ for m in model._oracles.algos]"
   ]
  },
  {
   "cell_type": "code",
   "execution_count": null,
   "metadata": {},
   "outputs": [],
   "source": [
    "rr"
   ]
  },
  {
   "cell_type": "code",
   "execution_count": null,
   "metadata": {},
   "outputs": [],
   "source": [
    "aa = np.array([0.2, 0.1, 0.2, 0.1, 0.4, 1.1, 0.3, 0.5, 0.6, 0.7])\n",
    "XX = np.array([[0, 1, 0],\n",
    "       [0, 1, 0],\n",
    "       [0, 1, 0],\n",
    "       [0, 1, 0],\n",
    "       [0, 1, 0],\n",
    "       [0, 1, 0],\n",
    "       [0, 1, 0],\n",
    "       [0, 1, 0],\n",
    "       [0, 1, 0],\n",
    "       [0, 1, 0]])\n",
    "rr = np.array([0, 0, 1, 1, 1, 1, 1, 1, 1, 1])"
   ]
  }
 ],
 "metadata": {
  "kernelspec": {
   "display_name": "Python 3",
   "language": "python",
   "name": "python3"
  },
  "language_info": {
   "codemirror_mode": {
    "name": "ipython",
    "version": 3
   },
   "file_extension": ".py",
   "mimetype": "text/x-python",
   "name": "python",
   "nbconvert_exporter": "python",
   "pygments_lexer": "ipython3",
   "version": "3.6.9"
  }
 },
 "nbformat": 4,
 "nbformat_minor": 4
}
