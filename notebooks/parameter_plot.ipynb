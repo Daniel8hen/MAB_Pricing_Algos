{
 "cells": [
  {
   "cell_type": "code",
   "execution_count": 1,
   "id": "8e97c938",
   "metadata": {},
   "outputs": [],
   "source": [
    "import pandas as pd\n",
    "import matplotlib.pyplot as plt\n",
    "import sys\n",
    "from datetime import datetime\n",
    "import random\n",
    "import numpy as np\n",
    "\n",
    "sys.path.append(\"../src\")\n",
    "%matplotlib inline\n",
    "%load_ext autoreload\n",
    "%autoreload 2"
   ]
  },
  {
   "cell_type": "code",
   "execution_count": 2,
   "id": "64793a8f",
   "metadata": {},
   "outputs": [],
   "source": [
    "from real_data_desired_win_rate_reward import ProbabilityModel, BetaBernoulli, BiddingStrategy"
   ]
  },
  {
   "cell_type": "code",
   "execution_count": 3,
   "id": "979ab20f",
   "metadata": {},
   "outputs": [],
   "source": [
    "cls = BetaBernoulli(1, 1000)  # Defining an instance of this BetaBernoulli with 1 win, 1000 loses as our prior\n",
    "df = pd.read_csv(\"../data/data.csv\")\n",
    "df = df.query(\"placementType == 'interstitial'\")\n",
    "max_data_point = 20  # max value of bins\n",
    "n_bins=1000\n",
    "desired_win_rate=0.5"
   ]
  },
  {
   "cell_type": "code",
   "execution_count": 4,
   "id": "d7d45f0d",
   "metadata": {},
   "outputs": [
    {
     "data": {
      "text/plain": [
       "(0.0, 20.0)"
      ]
     },
     "execution_count": 4,
     "metadata": {},
     "output_type": "execute_result"
    },
    {
     "data": {
      "image/png": "[encoded data removed]",
      "text/plain": [
       "<Figure size 432x288 with 1 Axes>"
      ]
     },
     "metadata": {
      "needs_background": "light"
     },
     "output_type": "display_data"
    }
   ],
   "source": [
    "df.head(2000)['bidPrice'].hist(bins=1000)\n",
    "plt.xlim(0, max_data_point)"
   ]
  },
  {
   "cell_type": "code",
   "execution_count": 5,
   "id": "55b8bb46",
   "metadata": {},
   "outputs": [
    {
     "name": "stdout",
     "output_type": "stream",
     "text": [
      "Init done\n",
      "Prior learnt\n",
      "Simulation Start: 05/18/2021, 17:26:05\n",
      "Regret: 6.307627535064505\n"
     ]
    }
   ],
   "source": [
    "format = \"%m/%d/%Y, %H:%M:%S\"\n",
    "biddingStrategy = BiddingStrategy(n_bins=n_bins, max_bid=max_data_point, priors=[1]*n_bins, classifier=cls, desired_win_rate=desired_win_rate)\n",
    "print (\"Init done\")\n",
    "biddingStrategy.learn_priors(df, 1)\n",
    "print (\"Prior learnt\")\n",
    "print(\"Simulation Start:\", datetime.now().strftime(format))\n",
    "mean_regret = biddingStrategy.simulate_by_real_dataset(df.head(2000), 0.99)\n",
    "print(\"Regret:\", mean_regret)\n",
    "# print(regret_arr)"
   ]
  },
  {
   "cell_type": "code",
   "execution_count": 6,
   "id": "68888aa3",
   "metadata": {},
   "outputs": [],
   "source": [
    "# np.median(regret_arr)"
   ]
  },
  {
   "cell_type": "code",
   "execution_count": 7,
   "id": "5aca6b9d",
   "metadata": {},
   "outputs": [
    {
     "name": "stdout",
     "output_type": "stream",
     "text": [
      "0.020 0.00 1.00\n",
      "0.040 0.00 1.00\n",
      "0.060 0.00 1.00\n",
      "0.080 0.00 1.00\n",
      "0.100 0.02 0.98\n",
      "0.120 0.02 0.98\n",
      "0.140 0.02 0.98\n",
      "0.160 0.02 0.98\n",
      "0.180 0.03 0.97\n",
      "0.200 0.03 0.97\n",
      "0.220 0.03 0.97\n",
      "0.240 0.03 0.97\n",
      "0.260 0.04 0.96\n",
      "0.280 0.05 0.95\n",
      "0.300 0.07 0.93\n",
      "0.320 0.09 0.91\n",
      "0.340 0.10 0.90\n",
      "0.360 0.11 0.89\n",
      "0.380 0.11 0.89\n",
      "0.400 0.12 0.88\n",
      "0.420 0.13 0.87\n",
      "0.440 0.12 0.88\n",
      "0.460 0.12 0.88\n",
      "0.480 0.09 0.91\n",
      "0.500 0.08 0.92\n",
      "0.520 0.08 0.92\n",
      "0.540 0.08 0.92\n",
      "0.560 0.08 0.92\n",
      "0.580 0.10 0.90\n",
      "0.600 0.11 0.89\n",
      "0.620 0.12 0.88\n",
      "0.640 0.12 0.88\n",
      "0.660 0.14 0.86\n",
      "0.680 0.13 0.87\n",
      "0.700 0.13 0.87\n",
      "0.720 0.10 0.90\n",
      "0.740 0.10 0.90\n",
      "0.760 0.09 0.91\n",
      "0.780 0.07 0.93\n",
      "0.800 0.07 0.93\n",
      "0.820 0.07 0.93\n",
      "0.840 0.07 0.93\n",
      "0.860 0.07 0.93\n",
      "0.880 0.07 0.93\n",
      "0.900 0.07 0.93\n",
      "0.920 0.06 0.94\n",
      "0.940 0.06 0.94\n",
      "0.960 0.05 0.95\n",
      "0.980 0.05 0.95\n",
      "1.000 0.05 0.95\n",
      "1.020 0.05 0.95\n",
      "1.040 0.05 0.95\n",
      "1.060 0.05 0.95\n",
      "1.080 0.05 0.95\n",
      "1.100 0.05 0.95\n",
      "1.120 0.05 0.95\n",
      "1.140 0.06 0.94\n",
      "1.160 0.06 0.94\n",
      "1.180 0.07 0.93\n",
      "1.200 0.07 0.93\n",
      "1.220 0.08 0.92\n",
      "1.240 0.08 0.92\n",
      "1.260 0.09 0.91\n",
      "1.280 0.09 0.91\n",
      "1.300 0.10 0.90\n",
      "1.320 0.10 0.90\n",
      "1.340 0.11 0.89\n",
      "1.360 0.12 0.88\n",
      "1.380 0.12 0.88\n",
      "1.400 0.13 0.87\n",
      "1.420 0.13 0.87\n",
      "1.440 0.14 0.86\n",
      "1.460 0.14 0.86\n",
      "1.480 0.13 0.87\n",
      "1.500 0.13 0.87\n",
      "1.520 0.13 0.87\n",
      "1.540 0.14 0.86\n",
      "1.560 0.14 0.86\n",
      "1.580 0.14 0.86\n",
      "1.600 0.14 0.86\n",
      "1.620 0.14 0.86\n",
      "1.640 0.14 0.86\n",
      "1.660 0.14 0.86\n",
      "1.680 0.14 0.86\n",
      "1.700 0.14 0.86\n",
      "1.720 0.14 0.86\n",
      "1.740 0.15 0.85\n",
      "1.760 0.15 0.85\n",
      "1.780 0.14 0.86\n",
      "1.800 0.16 0.84\n",
      "1.820 0.16 0.84\n",
      "1.840 0.16 0.84\n",
      "1.860 0.16 0.84\n",
      "1.880 0.16 0.84\n",
      "1.900 0.16 0.84\n",
      "1.920 0.15 0.85\n",
      "1.940 0.15 0.85\n",
      "1.960 0.15 0.85\n",
      "1.980 0.15 0.85\n",
      "2.000 0.14 0.86\n",
      "2.020 0.14 0.86\n",
      "2.040 0.14 0.86\n",
      "2.060 0.14 0.86\n",
      "2.080 0.14 0.86\n",
      "2.100 0.14 0.86\n",
      "2.120 0.14 0.86\n",
      "2.140 0.14 0.86\n",
      "2.160 0.14 0.86\n",
      "2.180 0.14 0.86\n",
      "2.200 0.14 0.86\n",
      "2.220 0.14 0.86\n",
      "2.240 0.14 0.86\n",
      "2.260 0.14 0.86\n",
      "2.280 0.14 0.86\n",
      "2.300 0.15 0.85\n",
      "2.320 0.15 0.85\n",
      "2.340 0.15 0.85\n",
      "2.360 0.15 0.85\n",
      "2.380 0.16 0.84\n",
      "2.400 0.16 0.84\n",
      "2.420 0.16 0.84\n",
      "2.440 0.17 0.83\n",
      "2.460 0.16 0.84\n",
      "2.480 0.17 0.83\n",
      "2.500 0.17 0.83\n",
      "2.520 0.17 0.83\n",
      "2.540 0.17 0.83\n",
      "2.560 0.17 0.83\n",
      "2.580 0.18 0.82\n",
      "2.600 0.18 0.82\n",
      "2.620 0.18 0.82\n",
      "2.640 0.18 0.82\n",
      "2.660 0.19 0.81\n",
      "2.680 0.19 0.81\n",
      "2.700 0.19 0.81\n",
      "2.720 0.19 0.81\n",
      "2.740 0.19 0.81\n",
      "2.760 0.19 0.81\n",
      "2.780 0.19 0.81\n",
      "2.800 0.19 0.81\n",
      "2.820 0.19 0.81\n",
      "2.840 0.19 0.81\n",
      "2.860 0.19 0.81\n",
      "2.880 0.20 0.80\n",
      "2.900 0.20 0.80\n",
      "2.920 0.20 0.80\n",
      "2.940 0.20 0.80\n",
      "2.960 0.20 0.80\n",
      "2.980 0.20 0.80\n",
      "3.000 0.21 0.79\n",
      "3.020 0.21 0.79\n",
      "3.040 0.21 0.79\n",
      "3.060 0.21 0.79\n",
      "3.080 0.21 0.79\n",
      "3.100 0.21 0.79\n",
      "3.120 0.21 0.79\n",
      "3.140 0.21 0.79\n",
      "3.160 0.22 0.78\n",
      "3.180 0.22 0.78\n",
      "3.200 0.22 0.78\n",
      "3.220 0.22 0.78\n",
      "3.240 0.22 0.78\n",
      "3.260 0.22 0.78\n",
      "3.280 0.22 0.78\n",
      "3.300 0.23 0.77\n",
      "3.320 0.22 0.78\n",
      "3.340 0.23 0.77\n",
      "3.360 0.24 0.76\n",
      "3.380 0.24 0.76\n",
      "3.400 0.25 0.75\n",
      "3.420 0.25 0.75\n",
      "3.440 0.25 0.75\n",
      "3.460 0.26 0.74\n",
      "3.480 0.27 0.73\n",
      "3.500 0.27 0.73\n",
      "3.520 0.28 0.72\n",
      "3.540 0.28 0.72\n",
      "3.560 0.28 0.72\n",
      "3.580 0.28 0.72\n",
      "3.600 0.28 0.72\n",
      "3.620 0.29 0.71\n",
      "3.640 0.31 0.69\n",
      "3.660 0.31 0.69\n",
      "3.680 0.31 0.69\n",
      "3.700 0.31 0.69\n",
      "3.720 0.32 0.68\n",
      "3.740 0.32 0.68\n",
      "3.760 0.33 0.67\n",
      "3.780 0.33 0.67\n",
      "3.800 0.34 0.66\n",
      "3.820 0.34 0.66\n",
      "3.840 0.34 0.66\n",
      "3.860 0.34 0.66\n",
      "3.880 0.35 0.65\n",
      "3.900 0.35 0.65\n",
      "3.920 0.36 0.64\n",
      "3.940 0.36 0.64\n",
      "3.960 0.36 0.64\n",
      "3.980 0.37 0.63\n",
      "4.000 0.37 0.63\n",
      "4.020 0.38 0.62\n",
      "4.040 0.38 0.62\n",
      "4.060 0.38 0.62\n",
      "4.080 0.39 0.61\n",
      "4.100 0.56 0.44\n",
      "4.120 0.56 0.44\n",
      "4.140 0.56 0.44\n",
      "4.160 0.57 0.43\n",
      "4.180 0.57 0.43\n",
      "4.200 0.58 0.42\n",
      "4.220 0.58 0.42\n",
      "4.240 0.58 0.42\n",
      "4.260 0.58 0.42\n",
      "4.280 0.58 0.42\n",
      "4.300 0.58 0.42\n",
      "4.320 0.59 0.41\n",
      "4.340 0.59 0.41\n",
      "4.360 0.62 0.38\n",
      "4.380 0.62 0.38\n",
      "4.400 0.62 0.38\n",
      "4.420 0.62 0.38\n",
      "4.440 0.62 0.38\n",
      "4.460 0.63 0.37\n",
      "4.480 0.63 0.37\n",
      "4.500 0.64 0.36\n",
      "4.520 0.64 0.36\n",
      "4.540 0.65 0.35\n",
      "4.560 0.65 0.35\n",
      "4.580 0.65 0.35\n",
      "4.600 0.65 0.35\n",
      "4.620 0.65 0.35\n",
      "4.640 0.65 0.35\n",
      "4.660 0.65 0.35\n",
      "4.680 0.65 0.35\n",
      "4.700 0.65 0.35\n",
      "4.720 0.65 0.35\n",
      "4.740 0.65 0.35\n",
      "4.760 0.65 0.35\n",
      "4.780 0.65 0.35\n",
      "4.800 0.65 0.35\n",
      "4.820 0.65 0.35\n",
      "4.840 0.64 0.36\n",
      "4.860 0.64 0.36\n",
      "4.880 0.64 0.36\n",
      "4.900 0.64 0.36\n",
      "4.920 0.64 0.36\n",
      "4.940 0.64 0.36\n",
      "4.960 0.64 0.36\n",
      "4.980 0.64 0.36\n",
      "5.000 0.64 0.36\n",
      "5.020 0.42 0.58\n",
      "5.040 0.42 0.58\n",
      "5.060 0.44 0.56\n",
      "5.080 0.43 0.57\n",
      "5.100 0.43 0.57\n",
      "5.120 0.43 0.57\n",
      "5.140 0.43 0.57\n",
      "5.160 0.43 0.57\n",
      "5.180 0.42 0.58\n",
      "5.200 0.42 0.58\n",
      "5.220 0.42 0.58\n",
      "5.240 0.41 0.59\n",
      "5.260 0.41 0.59\n",
      "5.280 0.42 0.58\n",
      "5.300 0.42 0.58\n",
      "5.320 0.42 0.58\n",
      "5.340 0.42 0.58\n",
      "5.360 0.41 0.59\n",
      "5.380 0.41 0.59\n",
      "5.400 0.42 0.58\n",
      "5.420 0.42 0.58\n",
      "5.440 0.42 0.58\n",
      "5.460 0.42 0.58\n",
      "5.480 0.42 0.58\n",
      "5.500 0.41 0.59\n",
      "5.520 0.41 0.59\n",
      "5.540 0.40 0.60\n",
      "5.560 0.40 0.60\n",
      "5.580 0.40 0.60\n",
      "5.600 0.40 0.60\n",
      "5.620 0.40 0.60\n",
      "5.640 0.40 0.60\n",
      "5.660 0.40 0.60\n",
      "5.680 0.39 0.61\n",
      "5.700 0.40 0.60\n",
      "5.720 0.40 0.60\n",
      "5.740 0.40 0.60\n",
      "5.760 0.40 0.60\n",
      "5.780 0.40 0.60\n",
      "5.800 0.40 0.60\n",
      "5.820 0.39 0.61\n",
      "5.840 0.39 0.61\n",
      "5.860 0.39 0.61\n",
      "5.880 0.40 0.60\n",
      "5.900 0.40 0.60\n",
      "5.920 0.40 0.60\n",
      "5.940 0.40 0.60\n",
      "5.960 0.40 0.60\n",
      "5.980 0.40 0.60\n",
      "6.000 0.40 0.60\n",
      "6.020 0.40 0.60\n",
      "6.040 0.40 0.60\n",
      "6.060 0.40 0.60\n",
      "6.080 0.40 0.60\n",
      "6.100 0.40 0.60\n",
      "6.120 0.41 0.59\n",
      "6.140 0.41 0.59\n",
      "6.160 0.41 0.59\n",
      "6.180 0.40 0.60\n",
      "6.200 0.40 0.60\n",
      "6.220 0.39 0.61\n",
      "6.240 0.39 0.61\n",
      "6.260 0.39 0.61\n",
      "6.280 0.40 0.60\n",
      "6.300 0.40 0.60\n",
      "6.320 0.40 0.60\n",
      "6.340 0.40 0.60\n",
      "6.360 0.40 0.60\n",
      "6.380 0.42 0.58\n",
      "6.400 0.42 0.58\n",
      "6.420 0.41 0.59\n",
      "6.440 0.41 0.59\n",
      "6.460 0.41 0.59\n",
      "6.480 0.40 0.60\n",
      "6.500 0.41 0.59\n",
      "6.520 0.40 0.60\n",
      "6.540 0.40 0.60\n",
      "6.560 0.41 0.59\n",
      "6.580 0.40 0.60\n",
      "6.600 0.40 0.60\n",
      "6.620 0.40 0.60\n",
      "6.640 0.40 0.60\n",
      "6.660 0.40 0.60\n",
      "6.680 0.39 0.61\n",
      "6.700 0.39 0.61\n",
      "6.720 0.40 0.60\n",
      "6.740 0.40 0.60\n",
      "6.760 0.40 0.60\n",
      "6.780 0.40 0.60\n",
      "6.800 0.40 0.60\n",
      "6.820 0.40 0.60\n",
      "6.840 0.40 0.60\n",
      "6.860 0.40 0.60\n",
      "6.880 0.40 0.60\n",
      "6.900 0.41 0.59\n",
      "6.920 0.41 0.59\n",
      "6.940 0.41 0.59\n",
      "6.960 0.41 0.59\n",
      "6.980 0.41 0.59\n",
      "7.000 0.41 0.59\n",
      "7.020 0.41 0.59\n",
      "7.040 0.41 0.59\n",
      "7.060 0.41 0.59\n",
      "7.080 0.41 0.59\n",
      "7.100 0.42 0.58\n",
      "7.120 0.42 0.58\n",
      "7.140 0.42 0.58\n",
      "7.160 0.42 0.58\n",
      "7.180 0.41 0.59\n",
      "7.200 0.42 0.58\n",
      "7.220 0.42 0.58\n",
      "7.240 0.42 0.58\n",
      "7.260 0.42 0.58\n",
      "7.280 0.43 0.57\n",
      "7.300 0.43 0.57\n",
      "7.320 0.43 0.57\n",
      "7.340 0.43 0.57\n",
      "7.360 0.43 0.57\n",
      "7.380 0.43 0.57\n",
      "7.400 0.43 0.57\n",
      "7.420 0.43 0.57\n",
      "7.440 0.43 0.57\n",
      "7.460 0.43 0.57\n",
      "7.480 0.43 0.57\n",
      "7.500 0.43 0.57\n",
      "7.520 0.43 0.57\n",
      "7.540 0.44 0.56\n",
      "7.560 0.43 0.57\n",
      "7.580 0.43 0.57\n",
      "7.600 0.43 0.57\n",
      "7.620 0.44 0.56\n",
      "7.640 0.44 0.56\n",
      "7.660 0.45 0.55\n",
      "7.680 0.45 0.55\n",
      "7.700 0.44 0.56\n",
      "7.720 0.44 0.56\n",
      "7.740 0.45 0.55\n",
      "7.760 0.45 0.55\n",
      "7.780 0.43 0.57\n",
      "7.800 0.44 0.56\n",
      "7.820 0.44 0.56\n",
      "7.840 0.44 0.56\n",
      "7.860 0.44 0.56\n",
      "7.880 0.45 0.55\n",
      "7.900 0.45 0.55\n",
      "7.920 0.45 0.55\n",
      "7.940 0.45 0.55\n",
      "7.960 0.46 0.54\n",
      "7.980 0.46 0.54\n",
      "8.000 0.46 0.54\n",
      "8.020 0.46 0.54\n",
      "8.040 0.46 0.54\n",
      "8.060 0.46 0.54\n",
      "8.080 0.46 0.54\n",
      "8.100 0.47 0.53\n",
      "8.120 0.47 0.53\n",
      "8.140 0.47 0.53\n",
      "8.160 0.48 0.52\n",
      "8.180 0.48 0.52\n",
      "8.200 0.48 0.52\n",
      "8.220 0.48 0.52\n",
      "8.240 0.48 0.52\n",
      "8.260 0.48 0.52\n",
      "8.280 0.48 0.52\n",
      "8.300 0.48 0.52\n",
      "8.320 0.49 0.51\n",
      "8.340 0.49 0.51\n",
      "8.360 0.49 0.51\n",
      "8.380 0.49 0.51\n",
      "8.400 0.50 0.50\n",
      "8.420 0.50 0.50\n",
      "8.440 0.50 0.50\n",
      "8.460 0.50 0.50\n",
      "8.480 0.51 0.49\n",
      "8.500 0.51 0.49\n",
      "8.520 0.51 0.49\n",
      "8.540 0.51 0.49\n",
      "8.560 0.52 0.48\n",
      "8.580 0.52 0.48\n",
      "8.600 0.52 0.48\n",
      "8.620 0.52 0.48\n",
      "8.640 0.52 0.48\n",
      "8.660 0.52 0.48\n",
      "8.680 0.52 0.48\n",
      "8.700 0.52 0.48\n",
      "8.720 0.52 0.48\n",
      "8.740 0.53 0.47\n",
      "8.760 0.53 0.47\n",
      "8.780 0.54 0.46\n",
      "8.800 0.54 0.46\n",
      "8.820 0.54 0.46\n",
      "8.840 0.54 0.46\n",
      "8.860 0.54 0.46\n",
      "8.880 0.54 0.46\n",
      "8.900 0.54 0.46\n",
      "8.920 0.55 0.45\n",
      "8.940 0.55 0.45\n",
      "8.960 0.55 0.45\n",
      "8.980 0.55 0.45\n",
      "9.000 0.56 0.44\n",
      "9.020 0.56 0.44\n",
      "9.040 0.56 0.44\n",
      "9.060 0.56 0.44\n",
      "9.080 0.56 0.44\n",
      "9.100 0.56 0.44\n",
      "9.120 0.56 0.44\n",
      "9.140 0.56 0.44\n",
      "9.160 0.56 0.44\n",
      "9.180 0.56 0.44\n",
      "9.200 0.56 0.44\n",
      "9.220 0.56 0.44\n",
      "9.240 0.56 0.44\n",
      "9.260 0.56 0.44\n",
      "9.280 0.56 0.44\n",
      "9.300 0.56 0.44\n",
      "9.320 0.56 0.44\n",
      "9.340 0.56 0.44\n",
      "9.360 0.56 0.44\n",
      "9.380 0.56 0.44\n",
      "9.400 0.56 0.44\n",
      "9.420 0.56 0.44\n",
      "9.440 0.57 0.43\n",
      "9.460 0.56 0.44\n",
      "9.480 0.57 0.43\n",
      "9.500 0.57 0.43\n",
      "9.520 0.57 0.43\n",
      "9.540 0.57 0.43\n",
      "9.560 0.57 0.43\n",
      "9.580 0.57 0.43\n",
      "9.600 0.57 0.43\n",
      "9.620 0.57 0.43\n",
      "9.640 0.57 0.43\n",
      "9.660 0.57 0.43\n",
      "9.680 0.57 0.43\n",
      "9.700 0.57 0.43\n",
      "9.720 0.57 0.43\n",
      "9.740 0.57 0.43\n",
      "9.760 0.57 0.43\n",
      "9.780 0.58 0.42\n",
      "9.800 0.58 0.42\n",
      "9.820 0.58 0.42\n",
      "9.840 0.58 0.42\n",
      "9.860 0.58 0.42\n",
      "9.880 0.58 0.42\n",
      "9.900 0.58 0.42\n",
      "9.920 0.58 0.42\n",
      "9.940 0.57 0.43\n",
      "9.960 0.57 0.43\n",
      "9.980 0.57 0.43\n",
      "10.000 0.57 0.43\n",
      "10.020 0.57 0.43\n",
      "10.040 0.57 0.43\n",
      "10.060 0.57 0.43\n",
      "10.080 0.57 0.43\n",
      "10.100 0.58 0.42\n",
      "10.120 0.58 0.42\n",
      "10.140 0.58 0.42\n",
      "10.160 0.58 0.42\n",
      "10.180 0.58 0.42\n",
      "10.200 0.58 0.42\n",
      "10.220 0.58 0.42\n",
      "10.240 0.58 0.42\n",
      "10.260 0.58 0.42\n",
      "10.280 0.58 0.42\n",
      "10.300 0.58 0.42\n",
      "10.320 0.58 0.42\n",
      "10.340 0.58 0.42\n",
      "10.360 0.58 0.42\n",
      "10.380 0.58 0.42\n",
      "10.400 0.57 0.43\n",
      "10.420 0.57 0.43\n",
      "10.440 0.57 0.43\n",
      "10.460 0.57 0.43\n",
      "10.480 0.57 0.43\n",
      "10.500 0.57 0.43\n",
      "10.520 0.57 0.43\n",
      "10.540 0.57 0.43\n",
      "10.560 0.56 0.44\n",
      "10.580 0.57 0.43\n",
      "10.600 0.56 0.44\n",
      "10.620 0.56 0.44\n",
      "10.640 0.56 0.44\n",
      "10.660 0.57 0.43\n",
      "10.680 0.56 0.44\n",
      "10.700 0.56 0.44\n",
      "10.720 0.57 0.43\n",
      "10.740 0.57 0.43\n",
      "10.760 0.57 0.43\n",
      "10.780 0.56 0.44\n",
      "10.800 0.56 0.44\n",
      "10.820 0.56 0.44\n",
      "10.840 0.56 0.44\n",
      "10.860 0.55 0.45\n",
      "10.880 0.55 0.45\n",
      "10.900 0.55 0.45\n",
      "10.920 0.55 0.45\n",
      "10.940 0.55 0.45\n",
      "10.960 0.56 0.44\n",
      "10.980 0.56 0.44\n",
      "11.000 0.55 0.45\n",
      "11.020 0.55 0.45\n",
      "11.040 0.55 0.45\n",
      "11.060 0.55 0.45\n",
      "11.080 0.55 0.45\n",
      "11.100 0.55 0.45\n",
      "11.120 0.55 0.45\n",
      "11.140 0.55 0.45\n",
      "11.160 0.56 0.44\n",
      "11.180 0.56 0.44\n",
      "11.200 0.56 0.44\n",
      "11.220 0.56 0.44\n",
      "11.240 0.57 0.43\n",
      "11.260 0.57 0.43\n",
      "11.280 0.57 0.43\n",
      "11.300 0.58 0.42\n",
      "11.320 0.58 0.42\n",
      "11.340 0.57 0.43\n",
      "11.360 0.58 0.42\n",
      "11.380 0.58 0.42\n",
      "11.400 0.57 0.43\n",
      "11.420 0.58 0.42\n",
      "11.440 0.58 0.42\n",
      "11.460 0.58 0.42\n",
      "11.480 0.58 0.42\n",
      "11.500 0.59 0.41\n",
      "11.520 0.59 0.41\n",
      "11.540 0.58 0.42\n",
      "11.560 0.58 0.42\n",
      "11.580 0.59 0.41\n",
      "11.600 0.58 0.42\n",
      "11.620 0.58 0.42\n",
      "11.640 0.57 0.43\n",
      "11.660 0.57 0.43\n",
      "11.680 0.57 0.43\n",
      "11.700 0.57 0.43\n",
      "11.720 0.57 0.43\n",
      "11.740 0.57 0.43\n",
      "11.760 0.57 0.43\n",
      "11.780 0.58 0.42\n",
      "11.800 0.58 0.42\n",
      "11.820 0.58 0.42\n",
      "11.840 0.58 0.42\n",
      "11.860 0.58 0.42\n",
      "11.880 0.58 0.42\n",
      "11.900 0.58 0.42\n",
      "11.920 0.58 0.42\n",
      "11.940 0.58 0.42\n",
      "11.960 0.58 0.42\n",
      "11.980 0.58 0.42\n",
      "12.000 0.57 0.43\n",
      "12.020 0.58 0.42\n",
      "12.040 0.57 0.43\n",
      "12.060 0.58 0.42\n",
      "12.080 0.58 0.42\n",
      "12.100 0.58 0.42\n",
      "12.120 0.58 0.42\n",
      "12.140 0.58 0.42\n",
      "12.160 0.58 0.42\n",
      "12.180 0.58 0.42\n",
      "12.200 0.59 0.41\n",
      "12.220 0.59 0.41\n",
      "12.240 0.59 0.41\n",
      "12.260 0.59 0.41\n",
      "12.280 0.59 0.41\n",
      "12.300 0.59 0.41\n",
      "12.320 0.60 0.40\n",
      "12.340 0.59 0.41\n",
      "12.360 0.59 0.41\n",
      "12.380 0.59 0.41\n",
      "12.400 0.60 0.40\n",
      "12.420 0.60 0.40\n",
      "12.440 0.60 0.40\n",
      "12.460 0.60 0.40\n",
      "12.480 0.60 0.40\n",
      "12.500 0.60 0.40\n",
      "12.520 0.60 0.40\n",
      "12.540 0.60 0.40\n",
      "12.560 0.60 0.40\n",
      "12.580 0.61 0.39\n",
      "12.600 0.61 0.39\n",
      "12.620 0.61 0.39\n",
      "12.640 0.61 0.39\n",
      "12.660 0.61 0.39\n",
      "12.680 0.61 0.39\n",
      "12.700 0.61 0.39\n",
      "12.720 0.61 0.39\n",
      "12.740 0.61 0.39\n",
      "12.760 0.61 0.39\n",
      "12.780 0.61 0.39\n",
      "12.800 0.61 0.39\n",
      "12.820 0.61 0.39\n",
      "12.840 0.61 0.39\n",
      "12.860 0.61 0.39\n",
      "12.880 0.61 0.39\n",
      "12.900 0.61 0.39\n",
      "12.920 0.63 0.37\n",
      "12.940 0.63 0.37\n",
      "12.960 0.63 0.37\n",
      "12.980 0.63 0.37\n",
      "13.000 0.63 0.37\n",
      "13.020 0.63 0.37\n",
      "13.040 0.63 0.37\n",
      "13.060 0.63 0.37\n",
      "13.080 0.63 0.37\n",
      "13.100 0.63 0.37\n",
      "13.120 0.64 0.36\n",
      "13.140 0.64 0.36\n",
      "13.160 0.64 0.36\n",
      "13.180 0.65 0.35\n",
      "13.200 0.65 0.35\n",
      "13.220 0.65 0.35\n",
      "13.240 0.64 0.36\n",
      "13.260 0.64 0.36\n",
      "13.280 0.64 0.36\n",
      "13.300 0.64 0.36\n",
      "13.320 0.64 0.36\n",
      "13.340 0.64 0.36\n",
      "13.360 0.64 0.36\n",
      "13.380 0.64 0.36\n",
      "13.400 0.64 0.36\n",
      "13.420 0.65 0.35\n",
      "13.440 0.64 0.36\n",
      "13.460 0.65 0.35\n",
      "13.480 0.65 0.35\n",
      "13.500 0.65 0.35\n",
      "13.520 0.65 0.35\n",
      "13.540 0.65 0.35\n",
      "13.560 0.65 0.35\n",
      "13.580 0.65 0.35\n",
      "13.600 0.65 0.35\n",
      "13.620 0.65 0.35\n",
      "13.640 0.65 0.35\n",
      "13.660 0.65 0.35\n",
      "13.680 0.65 0.35\n",
      "13.700 0.65 0.35\n",
      "13.720 0.64 0.36\n",
      "13.740 0.64 0.36\n",
      "13.760 0.64 0.36\n",
      "13.780 0.63 0.37\n",
      "13.800 0.63 0.37\n",
      "13.820 0.63 0.37\n",
      "13.840 0.64 0.36\n",
      "13.860 0.64 0.36\n",
      "13.880 0.64 0.36\n",
      "13.900 0.64 0.36\n",
      "13.920 0.64 0.36\n",
      "13.940 0.64 0.36\n",
      "13.960 0.64 0.36\n",
      "13.980 0.64 0.36\n",
      "14.000 0.64 0.36\n",
      "14.020 0.64 0.36\n",
      "14.040 0.64 0.36\n",
      "14.060 0.63 0.37\n",
      "14.080 0.64 0.36\n",
      "14.100 0.63 0.37\n",
      "14.120 0.63 0.37\n",
      "14.140 0.63 0.37\n",
      "14.160 0.64 0.36\n",
      "14.180 0.64 0.36\n",
      "14.200 0.64 0.36\n",
      "14.220 0.64 0.36\n",
      "14.240 0.64 0.36\n",
      "14.260 0.64 0.36\n",
      "14.280 0.64 0.36\n",
      "14.300 0.64 0.36\n",
      "14.320 0.64 0.36\n",
      "14.340 0.64 0.36\n",
      "14.360 0.64 0.36\n",
      "14.380 0.64 0.36\n",
      "14.400 0.64 0.36\n",
      "14.420 0.64 0.36\n",
      "14.440 0.65 0.35\n",
      "14.460 0.65 0.35\n",
      "14.480 0.65 0.35\n",
      "14.500 0.65 0.35\n",
      "14.520 0.65 0.35\n",
      "14.540 0.65 0.35\n",
      "14.560 0.65 0.35\n",
      "14.580 0.65 0.35\n",
      "14.600 0.64 0.36\n",
      "14.620 0.65 0.35\n",
      "14.640 0.65 0.35\n",
      "14.660 0.65 0.35\n",
      "14.680 0.66 0.34\n",
      "14.700 0.66 0.34\n",
      "14.720 0.66 0.34\n",
      "14.740 0.66 0.34\n",
      "14.760 0.66 0.34\n",
      "14.780 0.66 0.34\n",
      "14.800 0.66 0.34\n",
      "14.820 0.66 0.34\n",
      "14.840 0.66 0.34\n",
      "14.860 0.66 0.34\n",
      "14.880 0.65 0.35\n",
      "14.900 0.65 0.35\n",
      "14.920 0.65 0.35\n",
      "14.940 0.65 0.35\n",
      "14.960 0.66 0.34\n",
      "14.980 0.65 0.35\n",
      "15.000 0.66 0.34\n",
      "15.020 0.65 0.35\n",
      "15.040 0.65 0.35\n",
      "15.060 0.65 0.35\n",
      "15.080 0.64 0.36\n",
      "15.100 0.64 0.36\n",
      "15.120 0.65 0.35\n",
      "15.140 0.65 0.35\n",
      "15.160 0.65 0.35\n",
      "15.180 0.65 0.35\n",
      "15.200 0.65 0.35\n",
      "15.220 0.64 0.36\n",
      "15.240 0.64 0.36\n",
      "15.260 0.64 0.36\n",
      "15.280 0.64 0.36\n",
      "15.300 0.64 0.36\n",
      "15.320 0.63 0.37\n",
      "15.340 0.64 0.36\n",
      "15.360 0.64 0.36\n",
      "15.380 0.64 0.36\n",
      "15.400 0.63 0.37\n",
      "15.420 0.63 0.37\n",
      "15.440 0.63 0.37\n",
      "15.460 0.63 0.37\n",
      "15.480 0.63 0.37\n",
      "15.500 0.63 0.37\n",
      "15.520 0.63 0.37\n",
      "15.540 0.63 0.37\n",
      "15.560 0.62 0.38\n",
      "15.580 0.62 0.38\n",
      "15.600 0.63 0.37\n",
      "15.620 0.62 0.38\n",
      "15.640 0.63 0.37\n",
      "15.660 0.63 0.37\n",
      "15.680 0.62 0.38\n",
      "15.700 0.62 0.38\n",
      "15.720 0.62 0.38\n",
      "15.740 0.63 0.37\n",
      "15.760 0.63 0.37\n",
      "15.780 0.62 0.38\n",
      "15.800 0.62 0.38\n",
      "15.820 0.62 0.38\n",
      "15.840 0.62 0.38\n",
      "15.860 0.62 0.38\n",
      "15.880 0.63 0.37\n",
      "15.900 0.62 0.38\n",
      "15.920 0.62 0.38\n",
      "15.940 0.63 0.37\n",
      "15.960 0.62 0.38\n",
      "15.980 0.62 0.38\n",
      "16.000 0.62 0.38\n",
      "16.020 0.61 0.39\n",
      "16.040 0.60 0.40\n",
      "16.060 0.60 0.40\n",
      "16.080 0.60 0.40\n",
      "16.100 0.60 0.40\n",
      "16.120 0.60 0.40\n",
      "16.140 0.61 0.39\n",
      "16.160 0.61 0.39\n",
      "16.180 0.61 0.39\n",
      "16.200 0.61 0.39\n",
      "16.220 0.62 0.38\n",
      "16.240 0.62 0.38\n",
      "16.260 0.62 0.38\n",
      "16.280 0.62 0.38\n",
      "16.300 0.62 0.38\n",
      "16.320 0.62 0.38\n",
      "16.340 0.62 0.38\n",
      "16.360 0.62 0.38\n",
      "16.380 0.61 0.39\n",
      "16.400 0.60 0.40\n",
      "16.420 0.60 0.40\n",
      "16.440 0.60 0.40\n",
      "16.460 0.60 0.40\n",
      "16.480 0.60 0.40\n",
      "16.500 0.59 0.41\n",
      "16.520 0.59 0.41\n",
      "16.540 0.58 0.42\n",
      "16.560 0.58 0.42\n",
      "16.580 0.59 0.41\n",
      "16.600 0.58 0.42\n",
      "16.620 0.58 0.42\n",
      "16.640 0.58 0.42\n",
      "16.660 0.58 0.42\n",
      "16.680 0.58 0.42\n",
      "16.700 0.59 0.41\n",
      "16.720 0.60 0.40\n",
      "16.740 0.60 0.40\n",
      "16.760 0.61 0.39\n",
      "16.780 0.61 0.39\n",
      "16.800 0.61 0.39\n",
      "16.820 0.61 0.39\n",
      "16.840 0.61 0.39\n",
      "16.860 0.61 0.39\n",
      "16.880 0.61 0.39\n",
      "16.900 0.61 0.39\n",
      "16.920 0.60 0.40\n",
      "16.940 0.60 0.40\n",
      "16.960 0.61 0.39\n",
      "16.980 0.61 0.39\n",
      "17.000 0.61 0.39\n",
      "17.020 0.61 0.39\n",
      "17.040 0.61 0.39\n",
      "17.060 0.61 0.39\n",
      "17.080 0.61 0.39\n",
      "17.100 0.60 0.40\n",
      "17.120 0.60 0.40\n",
      "17.140 0.60 0.40\n",
      "17.160 0.60 0.40\n",
      "17.180 0.61 0.39\n",
      "17.200 0.61 0.39\n",
      "17.220 0.61 0.39\n",
      "17.240 0.60 0.40\n",
      "17.260 0.60 0.40\n",
      "17.280 0.59 0.41\n",
      "17.300 0.59 0.41\n",
      "17.320 0.59 0.41\n",
      "17.340 0.60 0.40\n",
      "17.360 0.59 0.41\n",
      "17.380 0.59 0.41\n",
      "17.400 0.60 0.40\n",
      "17.420 0.60 0.40\n",
      "17.440 0.60 0.40\n",
      "17.460 0.60 0.40\n",
      "17.480 0.60 0.40\n",
      "17.500 0.60 0.40\n",
      "17.520 0.59 0.41\n",
      "17.540 0.59 0.41\n",
      "17.560 0.59 0.41\n",
      "17.580 0.59 0.41\n",
      "17.600 0.59 0.41\n",
      "17.620 0.58 0.42\n",
      "17.640 0.59 0.41\n",
      "17.660 0.59 0.41\n",
      "17.680 0.59 0.41\n",
      "17.700 0.59 0.41\n",
      "17.720 0.59 0.41\n",
      "17.740 0.59 0.41\n",
      "17.760 0.59 0.41\n",
      "17.780 0.59 0.41\n",
      "17.800 0.60 0.40\n",
      "17.820 0.60 0.40\n",
      "17.840 0.60 0.40\n",
      "17.860 0.60 0.40\n",
      "17.880 0.60 0.40\n",
      "17.900 0.60 0.40\n",
      "17.920 0.60 0.40\n",
      "17.940 0.60 0.40\n",
      "17.960 0.60 0.40\n",
      "17.980 0.60 0.40\n",
      "18.000 0.60 0.40\n",
      "18.020 0.59 0.41\n",
      "18.040 0.58 0.42\n",
      "18.060 0.58 0.42\n",
      "18.080 0.58 0.42\n",
      "18.100 0.57 0.42\n",
      "18.120 0.57 0.43\n",
      "18.140 0.57 0.43\n",
      "18.160 0.57 0.42\n",
      "18.180 0.58 0.42\n",
      "18.200 0.57 0.42\n",
      "18.220 0.58 0.42\n",
      "18.240 0.59 0.41\n",
      "18.260 0.59 0.41\n",
      "18.280 0.59 0.41\n",
      "18.300 0.59 0.41\n",
      "18.320 0.59 0.41\n",
      "18.340 0.59 0.41\n",
      "18.360 0.59 0.41\n",
      "18.380 0.59 0.41\n",
      "18.400 0.59 0.41\n",
      "18.420 0.59 0.41\n",
      "18.440 0.59 0.41\n",
      "18.460 0.59 0.41\n",
      "18.480 0.59 0.41\n",
      "18.500 0.59 0.41\n",
      "18.520 0.59 0.41\n",
      "18.540 0.59 0.41\n",
      "18.560 0.59 0.41\n",
      "18.580 0.60 0.40\n",
      "18.600 0.59 0.41\n",
      "18.620 0.60 0.40\n",
      "18.640 0.60 0.40\n",
      "18.660 0.59 0.41\n",
      "18.680 0.59 0.41\n",
      "18.700 0.60 0.40\n",
      "18.720 0.60 0.40\n",
      "18.740 0.60 0.40\n",
      "18.760 0.59 0.41\n",
      "18.780 0.59 0.41\n",
      "18.800 0.59 0.41\n",
      "18.820 0.60 0.40\n",
      "18.840 0.60 0.40\n",
      "18.860 0.60 0.40\n",
      "18.880 0.60 0.40\n",
      "18.900 0.59 0.41\n",
      "18.920 0.57 0.43\n",
      "18.940 0.57 0.43\n",
      "18.960 0.57 0.43\n",
      "18.980 0.56 0.44\n",
      "19.000 0.56 0.44\n",
      "19.020 0.56 0.44\n",
      "19.040 0.56 0.44\n",
      "19.060 0.56 0.44\n",
      "19.080 0.56 0.44\n",
      "19.100 0.56 0.44\n",
      "19.120 0.56 0.44\n",
      "19.140 0.57 0.43\n",
      "19.160 0.58 0.42\n",
      "19.180 0.58 0.42\n",
      "19.200 0.58 0.42\n",
      "19.220 0.58 0.42\n",
      "19.240 0.57 0.43\n",
      "19.260 0.56 0.44\n",
      "19.280 0.56 0.44\n",
      "19.300 0.57 0.43\n",
      "19.320 0.57 0.43\n",
      "19.340 0.57 0.43\n",
      "19.360 0.57 0.43\n",
      "19.380 0.57 0.43\n",
      "19.400 0.56 0.44\n",
      "19.420 0.56 0.44\n",
      "19.440 0.56 0.44\n",
      "19.460 0.56 0.44\n",
      "19.480 0.56 0.44\n",
      "19.500 0.57 0.42\n",
      "19.520 0.57 0.43\n",
      "19.540 0.57 0.43\n",
      "19.560 0.57 0.43\n",
      "19.580 0.57 0.43\n",
      "19.600 0.57 0.43\n",
      "19.620 0.57 0.43\n",
      "19.640 0.57 0.43\n",
      "19.660 0.56 0.44\n",
      "19.680 0.56 0.44\n",
      "19.700 0.56 0.44\n",
      "19.720 0.56 0.44\n",
      "19.740 0.56 0.44\n",
      "19.760 0.56 0.44\n",
      "19.780 0.56 0.44\n",
      "19.800 0.55 0.45\n",
      "19.820 0.55 0.45\n",
      "19.840 0.55 0.45\n",
      "19.860 0.55 0.45\n",
      "19.880 0.54 0.46\n",
      "19.900 0.54 0.46\n",
      "19.920 0.54 0.46\n",
      "19.940 0.54 0.46\n",
      "19.960 0.55 0.45\n",
      "19.980 0.54 0.46\n",
      "20.000 0.53 0.47\n"
     ]
    }
   ],
   "source": [
    "for p,m in biddingStrategy.bid_model.items():\n",
    "    print (\"{p:0.3f} {t:0.2f} {f:0.2f}\".format(p=p,t=m.prior_T,f=m.prior_F))"
   ]
  },
  {
   "cell_type": "code",
   "execution_count": 8,
   "id": "e6945660",
   "metadata": {},
   "outputs": [
    {
     "data": {
      "text/plain": [
       "<BarContainer object of 1000 artists>"
      ]
     },
     "execution_count": 8,
     "metadata": {},
     "output_type": "execute_result"
    },
    {
     "data": {
      "image/png": "[encoded data removed]",
      "text/plain": [
       "<Figure size 432x288 with 1 Axes>"
      ]
     },
     "metadata": {
      "needs_background": "light"
     },
     "output_type": "display_data"
    }
   ],
   "source": [
    "normalized_prbs_arr = list(biddingStrategy.parameters().values())\n",
    "normalized_prbs_arr = biddingStrategy.normalize_probs(normalized_prbs_arr)\n",
    "plt.bar(biddingStrategy.parameters().keys(),normalized_prbs_arr)"
   ]
  },
  {
   "cell_type": "code",
   "execution_count": 9,
   "id": "cc91942f",
   "metadata": {},
   "outputs": [
    {
     "name": "stdout",
     "output_type": "stream",
     "text": [
      "bid is: 0.0678689215101912\n",
      "auction bid is: 0.41436213583347703\n"
     ]
    },
    {
     "data": {
      "image/png": "[encoded data removed]",
      "text/plain": [
       "<Figure size 432x288 with 1 Axes>"
      ]
     },
     "metadata": {
      "needs_background": "light"
     },
     "output_type": "display_data"
    },
    {
     "name": "stdout",
     "output_type": "stream",
     "text": [
      "bid is: 0.5884987869018469\n",
      "auction bid is: 0.4684292903623277\n"
     ]
    },
    {
     "data": {
      "image/png": "[encoded data removed]",
      "text/plain": [
       "<Figure size 432x288 with 1 Axes>"
      ]
     },
     "metadata": {
      "needs_background": "light"
     },
     "output_type": "display_data"
    },
    {
     "name": "stdout",
     "output_type": "stream",
     "text": [
      "bid is: 0.886309436055839\n",
      "auction bid is: 0.35549493745876415\n"
     ]
    },
    {
     "data": {
      "image/png": "[encoded data removed]",
      "text/plain": [
       "<Figure size 432x288 with 1 Axes>"
      ]
     },
     "metadata": {
      "needs_background": "light"
     },
     "output_type": "display_data"
    },
    {
     "name": "stdout",
     "output_type": "stream",
     "text": [
      "bid is: 0.8702963299110064\n",
      "auction bid is: 0.49252355260469993\n"
     ]
    },
    {
     "data": {
      "image/png": "[encoded data removed]",
      "text/plain": [
       "<Figure size 432x288 with 1 Axes>"
      ]
     },
     "metadata": {
      "needs_background": "light"
     },
     "output_type": "display_data"
    },
    {
     "name": "stdout",
     "output_type": "stream",
     "text": [
      "bid is: 0.011815221468567727\n",
      "auction bid is: 0.49265520029887416\n"
     ]
    },
    {
     "data": {
      "image/png": "[encoded data removed]",
      "text/plain": [
       "<Figure size 432x288 with 1 Axes>"
      ]
     },
     "metadata": {
      "needs_background": "light"
     },
     "output_type": "display_data"
    },
    {
     "name": "stdout",
     "output_type": "stream",
     "text": [
      "bid is: 0.9050025716516578\n",
      "auction bid is: 0.3147453013876255\n"
     ]
    },
    {
     "data": {
      "image/png": "[encoded data removed]",
      "text/plain": [
       "<Figure size 432x288 with 1 Axes>"
      ]
     },
     "metadata": {
      "needs_background": "light"
     },
     "output_type": "display_data"
    },
    {
     "name": "stdout",
     "output_type": "stream",
     "text": [
      "bid is: 0.010141075778950959\n",
      "auction bid is: 0.4464235047534778\n"
     ]
    },
    {
     "data": {
      "image/png": "[encoded data removed]",
      "text/plain": [
       "<Figure size 432x288 with 1 Axes>"
      ]
     },
     "metadata": {
      "needs_background": "light"
     },
     "output_type": "display_data"
    },
    {
     "name": "stdout",
     "output_type": "stream",
     "text": [
      "bid is: 0.18746728075195518\n",
      "auction bid is: 0.48596682038329786\n"
     ]
    },
    {
     "data": {
      "image/png": "[encoded data removed]",
      "text/plain": [
       "<Figure size 432x288 with 1 Axes>"
      ]
     },
     "metadata": {
      "needs_background": "light"
     },
     "output_type": "display_data"
    },
    {
     "name": "stdout",
     "output_type": "stream",
     "text": [
      "bid is: 0.9725663215284894\n",
      "auction bid is: 0.42432640513942943\n"
     ]
    },
    {
     "data": {
      "image/png": "[encoded data removed]",
      "text/plain": [
       "<Figure size 432x288 with 1 Axes>"
      ]
     },
     "metadata": {
      "needs_background": "light"
     },
     "output_type": "display_data"
    },
    {
     "name": "stdout",
     "output_type": "stream",
     "text": [
      "bid is: 0.7886103509438578\n",
      "auction bid is: 0.46259705444684146\n"
     ]
    },
    {
     "data": {
      "image/png": "[encoded data removed]",
      "text/plain": [
       "<Figure size 432x288 with 1 Axes>"
      ]
     },
     "metadata": {
      "needs_background": "light"
     },
     "output_type": "display_data"
    },
    {
     "name": "stdout",
     "output_type": "stream",
     "text": [
      "bid is: 0.4832767154696729\n",
      "auction bid is: 0.36980059546366595\n"
     ]
    },
    {
     "data": {
      "image/png": "[encoded data removed]",
      "text/plain": [
       "<Figure size 432x288 with 1 Axes>"
      ]
     },
     "metadata": {
      "needs_background": "light"
     },
     "output_type": "display_data"
    },
    {
     "name": "stdout",
     "output_type": "stream",
     "text": [
      "bid is: 0.2698349777494726\n",
      "auction bid is: 0.35775452365102994\n"
     ]
    },
    {
     "data": {
      "image/png": "[encoded data removed]",
      "text/plain": [
       "<Figure size 432x288 with 1 Axes>"
      ]
     },
     "metadata": {
      "needs_background": "light"
     },
     "output_type": "display_data"
    },
    {
     "name": "stdout",
     "output_type": "stream",
     "text": [
      "bid is: 0.43025858277528717\n",
      "auction bid is: 0.33090319211794367\n"
     ]
    },
    {
     "data": {
      "image/png": "[encoded data removed]",
      "text/plain": [
       "<Figure size 432x288 with 1 Axes>"
      ]
     },
     "metadata": {
      "needs_background": "light"
     },
     "output_type": "display_data"
    },
    {
     "name": "stdout",
     "output_type": "stream",
     "text": [
      "bid is: 0.22253668223887502\n",
      "auction bid is: 0.45351373458311256\n"
     ]
    },
    {
     "data": {
      "image/png": "[encoded data removed]",
      "text/plain": [
       "<Figure size 432x288 with 1 Axes>"
      ]
     },
     "metadata": {
      "needs_background": "light"
     },
     "output_type": "display_data"
    },
    {
     "name": "stdout",
     "output_type": "stream",
     "text": [
      "bid is: 0.9255264530226551\n",
      "auction bid is: 0.4157985841213896\n"
     ]
    },
    {
     "data": {
      "image/png": "[encoded data removed]",
      "text/plain": [
       "<Figure size 432x288 with 1 Axes>"
      ]
     },
     "metadata": {
      "needs_background": "light"
     },
     "output_type": "display_data"
    },
    {
     "name": "stdout",
     "output_type": "stream",
     "text": [
      "bid is: 0.4876735352284606\n",
      "auction bid is: 0.3254333462888499\n"
     ]
    },
    {
     "data": {
      "image/png": "[encoded data removed]",
      "text/plain": [
       "<Figure size 432x288 with 1 Axes>"
      ]
     },
     "metadata": {
      "needs_background": "light"
     },
     "output_type": "display_data"
    },
    {
     "name": "stdout",
     "output_type": "stream",
     "text": [
      "bid is: 0.9840530170508788\n",
      "auction bid is: 0.3235866968142123\n"
     ]
    },
    {
     "data": {
      "image/png": "[encoded data removed]",
      "text/plain": [
       "<Figure size 432x288 with 1 Axes>"
      ]
     },
     "metadata": {
      "needs_background": "light"
     },
     "output_type": "display_data"
    },
    {
     "name": "stdout",
     "output_type": "stream",
     "text": [
      "bid is: 0.8358499115748118\n",
      "auction bid is: 0.4306560089784021\n"
     ]
    },
    {
     "data": {
      "image/png": "[encoded data removed]",
      "text/plain": [
       "<Figure size 432x288 with 1 Axes>"
      ]
     },
     "metadata": {
      "needs_background": "light"
     },
     "output_type": "display_data"
    },
    {
     "name": "stdout",
     "output_type": "stream",
     "text": [
      "bid is: 0.9099798171601257\n",
      "auction bid is: 0.42486512810826216\n"
     ]
    },
    {
     "data": {
      "image/png": "[encoded data removed]",
      "text/plain": [
       "<Figure size 432x288 with 1 Axes>"
      ]
     },
     "metadata": {
      "needs_background": "light"
     },
     "output_type": "display_data"
    },
    {
     "name": "stdout",
     "output_type": "stream",
     "text": [
      "bid is: 0.704481724783553\n",
      "auction bid is: 0.31711482664106555\n"
     ]
    },
    {
     "data": {
      "image/png": "[encoded data removed]",
      "text/plain": [
       "<Figure size 432x288 with 1 Axes>"
      ]
     },
     "metadata": {
      "needs_background": "light"
     },
     "output_type": "display_data"
    },
    {
     "name": "stdout",
     "output_type": "stream",
     "text": [
      "bid is: 0.9220949996873967\n",
      "auction bid is: 0.3668204074574928\n"
     ]
    },
    {
     "data": {
      "image/png": "[encoded data removed]",
      "text/plain": [
       "<Figure size 432x288 with 1 Axes>"
      ]
     },
     "metadata": {
      "needs_background": "light"
     },
     "output_type": "display_data"
    },
    {
     "name": "stdout",
     "output_type": "stream",
     "text": [
      "bid is: 0.8027774345010843\n",
      "auction bid is: 0.3222740133579207\n"
     ]
    },
    {
     "data": {
      "image/png": "[encoded data removed]",
      "text/plain": [
       "<Figure size 432x288 with 1 Axes>"
      ]
     },
     "metadata": {
      "needs_background": "light"
     },
     "output_type": "display_data"
    },
    {
     "name": "stdout",
     "output_type": "stream",
     "text": [
      "bid is: 0.6546623350753216\n",
      "auction bid is: 0.45218526270813986\n"
     ]
    },
    {
     "data": {
      "image/png": "[encoded data removed]",
      "text/plain": [
       "<Figure size 432x288 with 1 Axes>"
      ]
     },
     "metadata": {
      "needs_background": "light"
     },
     "output_type": "display_data"
    },
    {
     "name": "stdout",
     "output_type": "stream",
     "text": [
      "bid is: 0.3178904220341545\n",
      "auction bid is: 0.35806470263643314\n"
     ]
    },
    {
     "data": {
      "image/png": "[encoded data removed]",
      "text/plain": [
       "<Figure size 432x288 with 1 Axes>"
      ]
     },
     "metadata": {
      "needs_background": "light"
     },
     "output_type": "display_data"
    },
    {
     "name": "stdout",
     "output_type": "stream",
     "text": [
      "bid is: 0.274024318740532\n",
      "auction bid is: 0.39727560644836907\n"
     ]
    },
    {
     "data": {
      "image/png": "[encoded data removed]",
      "text/plain": [
       "<Figure size 432x288 with 1 Axes>"
      ]
     },
     "metadata": {
      "needs_background": "light"
     },
     "output_type": "display_data"
    },
    {
     "name": "stdout",
     "output_type": "stream",
     "text": [
      "bid is: 0.7150742370084736\n",
      "auction bid is: 0.31130776312912944\n"
     ]
    },
    {
     "data": {
      "image/png": "[encoded data removed]",
      "text/plain": [
       "<Figure size 432x288 with 1 Axes>"
      ]
     },
     "metadata": {
      "needs_background": "light"
     },
     "output_type": "display_data"
    },
    {
     "name": "stdout",
     "output_type": "stream",
     "text": [
      "bid is: 0.17707996320229125\n",
      "auction bid is: 0.3783673417290386\n"
     ]
    },
    {
     "data": {
      "image/png": "[encoded data removed]",
      "text/plain": [
       "<Figure size 432x288 with 1 Axes>"
      ]
     },
     "metadata": {
      "needs_background": "light"
     },
     "output_type": "display_data"
    },
    {
     "name": "stdout",
     "output_type": "stream",
     "text": [
      "bid is: 0.140176091320539\n",
      "auction bid is: 0.4377944284176002\n"
     ]
    },
    {
     "data": {
      "image/png": "[encoded data removed]",
      "text/plain": [
       "<Figure size 432x288 with 1 Axes>"
      ]
     },
     "metadata": {
      "needs_background": "light"
     },
     "output_type": "display_data"
    },
    {
     "name": "stdout",
     "output_type": "stream",
     "text": [
      "bid is: 0.045615785175475265\n",
      "auction bid is: 0.3321799710410418\n"
     ]
    },
    {
     "data": {
      "image/png": "[encoded data removed]",
      "text/plain": [
       "<Figure size 432x288 with 1 Axes>"
      ]
     },
     "metadata": {
      "needs_background": "light"
     },
     "output_type": "display_data"
    },
    {
     "name": "stdout",
     "output_type": "stream",
     "text": [
      "bid is: 0.7966189222411582\n",
      "auction bid is: 0.49039581505021135\n"
     ]
    },
    {
     "data": {
      "image/png": "[encoded data removed]",
      "text/plain": [
       "<Figure size 432x288 with 1 Axes>"
      ]
     },
     "metadata": {
      "needs_background": "light"
     },
     "output_type": "display_data"
    },
    {
     "name": "stdout",
     "output_type": "stream",
     "text": [
      "bid is: 0.5935838094540712\n",
      "auction bid is: 0.3869280054103109\n"
     ]
    },
    {
     "data": {
      "image/png": "[encoded data removed]",
      "text/plain": [
       "<Figure size 432x288 with 1 Axes>"
      ]
     },
     "metadata": {
      "needs_background": "light"
     },
     "output_type": "display_data"
    },
    {
     "name": "stdout",
     "output_type": "stream",
     "text": [
      "bid is: 0.0430896180052639\n",
      "auction bid is: 0.4946568705619518\n"
     ]
    },
    {
     "data": {
      "image/png": "[encoded data removed]",
      "text/plain": [
       "<Figure size 432x288 with 1 Axes>"
      ]
     },
     "metadata": {
      "needs_background": "light"
     },
     "output_type": "display_data"
    },
    {
     "name": "stdout",
     "output_type": "stream",
     "text": [
      "bid is: 0.1551459782419582\n",
      "auction bid is: 0.3044003916625688\n"
     ]
    },
    {
     "data": {
      "image/png": "[encoded data removed]",
      "text/plain": [
       "<Figure size 432x288 with 1 Axes>"
      ]
     },
     "metadata": {
      "needs_background": "light"
     },
     "output_type": "display_data"
    },
    {
     "name": "stdout",
     "output_type": "stream",
     "text": [
      "bid is: 0.29415357432786093\n",
      "auction bid is: 0.42120258509207553\n"
     ]
    },
    {
     "data": {
      "image/png": "[encoded data removed]",
      "text/plain": [
       "<Figure size 432x288 with 1 Axes>"
      ]
     },
     "metadata": {
      "needs_background": "light"
     },
     "output_type": "display_data"
    },
    {
     "name": "stdout",
     "output_type": "stream",
     "text": [
      "bid is: 0.5749335004778214\n",
      "auction bid is: 0.3957915189901092\n"
     ]
    },
    {
     "data": {
      "image/png": "[encoded data removed]",
      "text/plain": [
       "<Figure size 432x288 with 1 Axes>"
      ]
     },
     "metadata": {
      "needs_background": "light"
     },
     "output_type": "display_data"
    },
    {
     "name": "stdout",
     "output_type": "stream",
     "text": [
      "bid is: 0.5290793035269871\n",
      "auction bid is: 0.40623683539913186\n"
     ]
    },
    {
     "data": {
      "image/png": "[encoded data removed]",
      "text/plain": [
       "<Figure size 432x288 with 1 Axes>"
      ]
     },
     "metadata": {
      "needs_background": "light"
     },
     "output_type": "display_data"
    },
    {
     "name": "stdout",
     "output_type": "stream",
     "text": [
      "bid is: 0.6021874191547869\n",
      "auction bid is: 0.3175605674726992\n"
     ]
    },
    {
     "data": {
      "image/png": "[encoded data removed]",
      "text/plain": [
       "<Figure size 432x288 with 1 Axes>"
      ]
     },
     "metadata": {
      "needs_background": "light"
     },
     "output_type": "display_data"
    },
    {
     "name": "stdout",
     "output_type": "stream",
     "text": [
      "bid is: 0.13736638216583685\n",
      "auction bid is: 0.4445228767915518\n"
     ]
    },
    {
     "data": {
      "image/png": "[encoded data removed]",
      "text/plain": [
       "<Figure size 432x288 with 1 Axes>"
      ]
     },
     "metadata": {
      "needs_background": "light"
     },
     "output_type": "display_data"
    },
    {
     "name": "stdout",
     "output_type": "stream",
     "text": [
      "bid is: 0.6250661137650693\n",
      "auction bid is: 0.48557806394880826\n"
     ]
    },
    {
     "data": {
      "image/png": "[encoded data removed]",
      "text/plain": [
       "<Figure size 432x288 with 1 Axes>"
      ]
     },
     "metadata": {
      "needs_background": "light"
     },
     "output_type": "display_data"
    },
    {
     "name": "stdout",
     "output_type": "stream",
     "text": [
      "bid is: 0.3755390751029398\n",
      "auction bid is: 0.4578126951131821\n"
     ]
    },
    {
     "data": {
      "image/png": "[encoded data removed]",
      "text/plain": [
       "<Figure size 432x288 with 1 Axes>"
      ]
     },
     "metadata": {
      "needs_background": "light"
     },
     "output_type": "display_data"
    },
    {
     "name": "stdout",
     "output_type": "stream",
     "text": [
      "bid is: 0.5961016696866603\n",
      "auction bid is: 0.3591262454466361\n"
     ]
    },
    {
     "data": {
      "image/png": "[encoded data removed]",
      "text/plain": [
       "<Figure size 432x288 with 1 Axes>"
      ]
     },
     "metadata": {
      "needs_background": "light"
     },
     "output_type": "display_data"
    },
    {
     "name": "stdout",
     "output_type": "stream",
     "text": [
      "bid is: 0.8122162332779764\n",
      "auction bid is: 0.4047128715389898\n"
     ]
    },
    {
     "data": {
      "image/png": "[encoded data removed]",
      "text/plain": [
       "<Figure size 432x288 with 1 Axes>"
      ]
     },
     "metadata": {
      "needs_background": "light"
     },
     "output_type": "display_data"
    },
    {
     "name": "stdout",
     "output_type": "stream",
     "text": [
      "bid is: 0.06153377815852257\n",
      "auction bid is: 0.32498543922897605\n"
     ]
    },
    {
     "data": {
      "image/png": "[encoded data removed]",
      "text/plain": [
       "<Figure size 432x288 with 1 Axes>"
      ]
     },
     "metadata": {
      "needs_background": "light"
     },
     "output_type": "display_data"
    },
    {
     "name": "stdout",
     "output_type": "stream",
     "text": [
      "bid is: 0.261730846028402\n",
      "auction bid is: 0.4905607827492665\n"
     ]
    },
    {
     "data": {
      "image/png": "[encoded data removed]",
      "text/plain": [
       "<Figure size 432x288 with 1 Axes>"
      ]
     },
     "metadata": {
      "needs_background": "light"
     },
     "output_type": "display_data"
    },
    {
     "name": "stdout",
     "output_type": "stream",
     "text": [
      "bid is: 0.7020442031160271\n",
      "auction bid is: 0.3986992416422013\n"
     ]
    },
    {
     "data": {
      "image/png": "[encoded data removed]",
      "text/plain": [
       "<Figure size 432x288 with 1 Axes>"
      ]
     },
     "metadata": {
      "needs_background": "light"
     },
     "output_type": "display_data"
    },
    {
     "name": "stdout",
     "output_type": "stream",
     "text": [
      "bid is: 0.0846039816345393\n",
      "auction bid is: 0.4018700631945679\n"
     ]
    },
    {
     "data": {
      "image/png": "[encoded data removed]",
      "text/plain": [
       "<Figure size 432x288 with 1 Axes>"
      ]
     },
     "metadata": {
      "needs_background": "light"
     },
     "output_type": "display_data"
    },
    {
     "name": "stdout",
     "output_type": "stream",
     "text": [
      "bid is: 0.43517620557171555\n",
      "auction bid is: 0.39865466175799297\n"
     ]
    },
    {
     "data": {
      "image/png": "[encoded data removed]",
      "text/plain": [
       "<Figure size 432x288 with 1 Axes>"
      ]
     },
     "metadata": {
      "needs_background": "light"
     },
     "output_type": "display_data"
    },
    {
     "name": "stdout",
     "output_type": "stream",
     "text": [
      "bid is: 0.8616444384456292\n",
      "auction bid is: 0.3094811639482438\n"
     ]
    },
    {
     "data": {
      "image/png": "[encoded data removed]",
      "text/plain": [
       "<Figure size 432x288 with 1 Axes>"
      ]
     },
     "metadata": {
      "needs_background": "light"
     },
     "output_type": "display_data"
    },
    {
     "name": "stdout",
     "output_type": "stream",
     "text": [
      "bid is: 0.54186356042823\n",
      "auction bid is: 0.4083671275470191\n"
     ]
    },
    {
     "data": {
      "image/png": "[encoded data removed]",
      "text/plain": [
       "<Figure size 432x288 with 1 Axes>"
      ]
     },
     "metadata": {
      "needs_background": "light"
     },
     "output_type": "display_data"
    },
    {
     "name": "stdout",
     "output_type": "stream",
     "text": [
      "bid is: 0.12667782908380276\n",
      "auction bid is: 0.3840907854734871\n"
     ]
    },
    {
     "data": {
      "image/png": "[encoded data removed]",
      "text/plain": [
       "<Figure size 432x288 with 1 Axes>"
      ]
     },
     "metadata": {
      "needs_background": "light"
     },
     "output_type": "display_data"
    },
    {
     "name": "stdout",
     "output_type": "stream",
     "text": [
      "bid is: 0.5880101458530391\n",
      "auction bid is: 0.38113150649661515\n"
     ]
    },
    {
     "data": {
      "image/png": "[encoded data removed]",
      "text/plain": [
       "<Figure size 432x288 with 1 Axes>"
      ]
     },
     "metadata": {
      "needs_background": "light"
     },
     "output_type": "display_data"
    },
    {
     "name": "stdout",
     "output_type": "stream",
     "text": [
      "bid is: 0.361305673986959\n",
      "auction bid is: 0.4918799732616385\n"
     ]
    },
    {
     "data": {
      "image/png": "[encoded data removed]",
      "text/plain": [
       "<Figure size 432x288 with 1 Axes>"
      ]
     },
     "metadata": {
      "needs_background": "light"
     },
     "output_type": "display_data"
    },
    {
     "name": "stdout",
     "output_type": "stream",
     "text": [
      "bid is: 0.15415945225942507\n",
      "auction bid is: 0.3567289305038047\n"
     ]
    },
    {
     "data": {
      "image/png": "[encoded data removed]",
      "text/plain": [
       "<Figure size 432x288 with 1 Axes>"
      ]
     },
     "metadata": {
      "needs_background": "light"
     },
     "output_type": "display_data"
    },
    {
     "name": "stdout",
     "output_type": "stream",
     "text": [
      "bid is: 0.5726084827054702\n",
      "auction bid is: 0.34862629622340213\n"
     ]
    },
    {
     "data": {
      "image/png": "[encoded data removed]",
      "text/plain": [
       "<Figure size 432x288 with 1 Axes>"
      ]
     },
     "metadata": {
      "needs_background": "light"
     },
     "output_type": "display_data"
    },
    {
     "name": "stdout",
     "output_type": "stream",
     "text": [
      "bid is: 0.020835423071251302\n",
      "auction bid is: 0.4429322911147906\n"
     ]
    },
    {
     "data": {
      "image/png": "[encoded data removed]",
      "text/plain": [
       "<Figure size 432x288 with 1 Axes>"
      ]
     },
     "metadata": {
      "needs_background": "light"
     },
     "output_type": "display_data"
    },
    {
     "name": "stdout",
     "output_type": "stream",
     "text": [
      "bid is: 0.4061660781794054\n",
      "auction bid is: 0.31054619358845414\n"
     ]
    },
    {
     "data": {
      "image/png": "[encoded data removed]",
      "text/plain": [
       "<Figure size 432x288 with 1 Axes>"
      ]
     },
     "metadata": {
      "needs_background": "light"
     },
     "output_type": "display_data"
    },
    {
     "name": "stdout",
     "output_type": "stream",
     "text": [
      "bid is: 0.11530905722394125\n",
      "auction bid is: 0.44085707844227506\n"
     ]
    },
    {
     "data": {
      "image/png": "[encoded data removed]",
      "text/plain": [
       "<Figure size 432x288 with 1 Axes>"
      ]
     },
     "metadata": {
      "needs_background": "light"
     },
     "output_type": "display_data"
    },
    {
     "name": "stdout",
     "output_type": "stream",
     "text": [
      "bid is: 0.6470256335662276\n",
      "auction bid is: 0.3791901812356379\n"
     ]
    },
    {
     "data": {
      "image/png": "[encoded data removed]",
      "text/plain": [
       "<Figure size 432x288 with 1 Axes>"
      ]
     },
     "metadata": {
      "needs_background": "light"
     },
     "output_type": "display_data"
    },
    {
     "name": "stdout",
     "output_type": "stream",
     "text": [
      "bid is: 0.0287073448435059\n",
      "auction bid is: 0.3704318782720375\n"
     ]
    },
    {
     "data": {
      "image/png": "[encoded data removed]",
      "text/plain": [
       "<Figure size 432x288 with 1 Axes>"
      ]
     },
     "metadata": {
      "needs_background": "light"
     },
     "output_type": "display_data"
    },
    {
     "name": "stdout",
     "output_type": "stream",
     "text": [
      "bid is: 0.0768082242495447\n",
      "auction bid is: 0.40819540848675584\n"
     ]
    },
    {
     "data": {
      "image/png": "[encoded data removed]",
      "text/plain": [
       "<Figure size 432x288 with 1 Axes>"
      ]
     },
     "metadata": {
      "needs_background": "light"
     },
     "output_type": "display_data"
    },
    {
     "name": "stdout",
     "output_type": "stream",
     "text": [
      "bid is: 0.19014438445127324\n",
      "auction bid is: 0.41658767866124163\n"
     ]
    },
    {
     "data": {
      "image/png": "[encoded data removed]",
      "text/plain": [
       "<Figure size 432x288 with 1 Axes>"
      ]
     },
     "metadata": {
      "needs_background": "light"
     },
     "output_type": "display_data"
    },
    {
     "name": "stdout",
     "output_type": "stream",
     "text": [
      "bid is: 0.886139186756709\n",
      "auction bid is: 0.36890237659602143\n"
     ]
    },
    {
     "data": {
      "image/png": "[encoded data removed]",
      "text/plain": [
       "<Figure size 432x288 with 1 Axes>"
      ]
     },
     "metadata": {
      "needs_background": "light"
     },
     "output_type": "display_data"
    },
    {
     "name": "stdout",
     "output_type": "stream",
     "text": [
      "bid is: 0.27079874377016133\n",
      "auction bid is: 0.3920828917807344\n"
     ]
    },
    {
     "data": {
      "image/png": "[encoded data removed]",
      "text/plain": [
       "<Figure size 432x288 with 1 Axes>"
      ]
     },
     "metadata": {
      "needs_background": "light"
     },
     "output_type": "display_data"
    },
    {
     "name": "stdout",
     "output_type": "stream",
     "text": [
      "bid is: 0.27491357011499684\n",
      "auction bid is: 0.4006054505402832\n"
     ]
    },
    {
     "data": {
      "image/png": "[encoded data removed]",
      "text/plain": [
       "<Figure size 432x288 with 1 Axes>"
      ]
     },
     "metadata": {
      "needs_background": "light"
     },
     "output_type": "display_data"
    },
    {
     "name": "stdout",
     "output_type": "stream",
     "text": [
      "bid is: 0.9413868387069074\n",
      "auction bid is: 0.30973206718413315\n"
     ]
    },
    {
     "data": {
      "image/png": "[encoded data removed]",
      "text/plain": [
       "<Figure size 432x288 with 1 Axes>"
      ]
     },
     "metadata": {
      "needs_background": "light"
     },
     "output_type": "display_data"
    },
    {
     "name": "stdout",
     "output_type": "stream",
     "text": [
      "bid is: 0.43425620948380594\n",
      "auction bid is: 0.48289506184315434\n"
     ]
    },
    {
     "data": {
      "image/png": "[encoded data removed]",
      "text/plain": [
       "<Figure size 432x288 with 1 Axes>"
      ]
     },
     "metadata": {
      "needs_background": "light"
     },
     "output_type": "display_data"
    },
    {
     "name": "stdout",
     "output_type": "stream",
     "text": [
      "bid is: 0.051277858710589985\n",
      "auction bid is: 0.38984591975809696\n"
     ]
    },
    {
     "data": {
      "image/png": "[encoded data removed]",
      "text/plain": [
       "<Figure size 432x288 with 1 Axes>"
      ]
     },
     "metadata": {
      "needs_background": "light"
     },
     "output_type": "display_data"
    },
    {
     "name": "stdout",
     "output_type": "stream",
     "text": [
      "bid is: 0.08390731326926748\n",
      "auction bid is: 0.42603857892422503\n"
     ]
    },
    {
     "data": {
      "image/png": "[encoded data removed]",
      "text/plain": [
       "<Figure size 432x288 with 1 Axes>"
      ]
     },
     "metadata": {
      "needs_background": "light"
     },
     "output_type": "display_data"
    },
    {
     "name": "stdout",
     "output_type": "stream",
     "text": [
      "bid is: 0.0900221467467669\n",
      "auction bid is: 0.39236534915823723\n"
     ]
    },
    {
     "data": {
      "image/png": "[encoded data removed]",
      "text/plain": [
       "<Figure size 432x288 with 1 Axes>"
      ]
     },
     "metadata": {
      "needs_background": "light"
     },
     "output_type": "display_data"
    },
    {
     "name": "stdout",
     "output_type": "stream",
     "text": [
      "bid is: 0.5556485038477136\n",
      "auction bid is: 0.37835771473810387\n"
     ]
    },
    {
     "data": {
      "image/png": "[encoded data removed]",
      "text/plain": [
       "<Figure size 432x288 with 1 Axes>"
      ]
     },
     "metadata": {
      "needs_background": "light"
     },
     "output_type": "display_data"
    },
    {
     "name": "stdout",
     "output_type": "stream",
     "text": [
      "bid is: 0.14727284485123715\n",
      "auction bid is: 0.34416685917690226\n"
     ]
    },
    {
     "data": {
      "image/png": "[encoded data removed]",
      "text/plain": [
       "<Figure size 432x288 with 1 Axes>"
      ]
     },
     "metadata": {
      "needs_background": "light"
     },
     "output_type": "display_data"
    },
    {
     "name": "stdout",
     "output_type": "stream",
     "text": [
      "bid is: 0.2814716261443929\n",
      "auction bid is: 0.4355408283640627\n"
     ]
    },
    {
     "data": {
      "image/png": "[encoded data removed]",
      "text/plain": [
       "<Figure size 432x288 with 1 Axes>"
      ]
     },
     "metadata": {
      "needs_background": "light"
     },
     "output_type": "display_data"
    },
    {
     "name": "stdout",
     "output_type": "stream",
     "text": [
      "bid is: 0.6127725676189568\n",
      "auction bid is: 0.395367649600468\n"
     ]
    },
    {
     "data": {
      "image/png": "[encoded data removed]",
      "text/plain": [
       "<Figure size 432x288 with 1 Axes>"
      ]
     },
     "metadata": {
      "needs_background": "light"
     },
     "output_type": "display_data"
    },
    {
     "name": "stdout",
     "output_type": "stream",
     "text": [
      "bid is: 0.7675235424443855\n",
      "auction bid is: 0.46533309493736136\n"
     ]
    },
    {
     "data": {
      "image/png": "[encoded data removed]",
      "text/plain": [
       "<Figure size 432x288 with 1 Axes>"
      ]
     },
     "metadata": {
      "needs_background": "light"
     },
     "output_type": "display_data"
    },
    {
     "name": "stdout",
     "output_type": "stream",
     "text": [
      "bid is: 0.9251077854209692\n",
      "auction bid is: 0.4488468302306906\n"
     ]
    },
    {
     "data": {
      "image/png": "[encoded data removed]",
      "text/plain": [
       "<Figure size 432x288 with 1 Axes>"
      ]
     },
     "metadata": {
      "needs_background": "light"
     },
     "output_type": "display_data"
    },
    {
     "name": "stdout",
     "output_type": "stream",
     "text": [
      "bid is: 0.40031294937464423\n",
      "auction bid is: 0.4745121221911158\n"
     ]
    },
    {
     "data": {
      "image/png": "[encoded data removed]",
      "text/plain": [
       "<Figure size 432x288 with 1 Axes>"
      ]
     },
     "metadata": {
      "needs_background": "light"
     },
     "output_type": "display_data"
    },
    {
     "name": "stdout",
     "output_type": "stream",
     "text": [
      "bid is: 0.2583518048563168\n",
      "auction bid is: 0.3835797226880664\n"
     ]
    },
    {
     "data": {
      "image/png": "[encoded data removed]",
      "text/plain": [
       "<Figure size 432x288 with 1 Axes>"
      ]
     },
     "metadata": {
      "needs_background": "light"
     },
     "output_type": "display_data"
    },
    {
     "name": "stdout",
     "output_type": "stream",
     "text": [
      "bid is: 0.3013394175182095\n",
      "auction bid is: 0.4709874103005488\n"
     ]
    },
    {
     "data": {
      "image/png": "[encoded data removed]",
      "text/plain": [
       "<Figure size 432x288 with 1 Axes>"
      ]
     },
     "metadata": {
      "needs_background": "light"
     },
     "output_type": "display_data"
    },
    {
     "name": "stdout",
     "output_type": "stream",
     "text": [
      "bid is: 0.2045892222683997\n",
      "auction bid is: 0.43851709495085667\n"
     ]
    },
    {
     "data": {
      "image/png": "[encoded data removed]",
      "text/plain": [
       "<Figure size 432x288 with 1 Axes>"
      ]
     },
     "metadata": {
      "needs_background": "light"
     },
     "output_type": "display_data"
    },
    {
     "name": "stdout",
     "output_type": "stream",
     "text": [
      "bid is: 0.22504541504850994\n",
      "auction bid is: 0.30482498465810376\n"
     ]
    },
    {
     "data": {
      "image/png": "[encoded data removed]",
      "text/plain": [
       "<Figure size 432x288 with 1 Axes>"
      ]
     },
     "metadata": {
      "needs_background": "light"
     },
     "output_type": "display_data"
    },
    {
     "name": "stdout",
     "output_type": "stream",
     "text": [
      "bid is: 0.9058762603370881\n",
      "auction bid is: 0.3307226698447988\n"
     ]
    },
    {
     "data": {
      "image/png": "[encoded data removed]",
      "text/plain": [
       "<Figure size 432x288 with 1 Axes>"
      ]
     },
     "metadata": {
      "needs_background": "light"
     },
     "output_type": "display_data"
    },
    {
     "name": "stdout",
     "output_type": "stream",
     "text": [
      "bid is: 0.4048615877284849\n",
      "auction bid is: 0.3932920163812369\n"
     ]
    },
    {
     "data": {
      "image/png": "[encoded data removed]",
      "text/plain": [
       "<Figure size 432x288 with 1 Axes>"
      ]
     },
     "metadata": {
      "needs_background": "light"
     },
     "output_type": "display_data"
    },
    {
     "name": "stdout",
     "output_type": "stream",
     "text": [
      "bid is: 0.5436961482777387\n",
      "auction bid is: 0.3652456601455266\n"
     ]
    },
    {
     "data": {
      "image/png": "[encoded data removed]",
      "text/plain": [
       "<Figure size 432x288 with 1 Axes>"
      ]
     },
     "metadata": {
      "needs_background": "light"
     },
     "output_type": "display_data"
    },
    {
     "name": "stdout",
     "output_type": "stream",
     "text": [
      "bid is: 0.2611223774162281\n",
      "auction bid is: 0.4857648676311509\n"
     ]
    },
    {
     "data": {
      "image/png": "[encoded data removed]",
      "text/plain": [
       "<Figure size 432x288 with 1 Axes>"
      ]
     },
     "metadata": {
      "needs_background": "light"
     },
     "output_type": "display_data"
    },
    {
     "name": "stdout",
     "output_type": "stream",
     "text": [
      "bid is: 0.7300000057874396\n",
      "auction bid is: 0.33050446042016385\n"
     ]
    },
    {
     "data": {
      "image/png": "[encoded data removed]",
      "text/plain": [
       "<Figure size 432x288 with 1 Axes>"
      ]
     },
     "metadata": {
      "needs_background": "light"
     },
     "output_type": "display_data"
    },
    {
     "name": "stdout",
     "output_type": "stream",
     "text": [
      "bid is: 0.5161676657641557\n",
      "auction bid is: 0.41051589815992917\n"
     ]
    },
    {
     "data": {
      "image/png": "[encoded data removed]",
      "text/plain": [
       "<Figure size 432x288 with 1 Axes>"
      ]
     },
     "metadata": {
      "needs_background": "light"
     },
     "output_type": "display_data"
    },
    {
     "name": "stdout",
     "output_type": "stream",
     "text": [
      "bid is: 0.07861304877423647\n",
      "auction bid is: 0.44685024012441943\n"
     ]
    },
    {
     "data": {
      "image/png": "[encoded data removed]",
      "text/plain": [
       "<Figure size 432x288 with 1 Axes>"
      ]
     },
     "metadata": {
      "needs_background": "light"
     },
     "output_type": "display_data"
    },
    {
     "name": "stdout",
     "output_type": "stream",
     "text": [
      "bid is: 0.7807977157242517\n",
      "auction bid is: 0.455428759525034\n"
     ]
    },
    {
     "data": {
      "image/png": "[encoded data removed]",
      "text/plain": [
       "<Figure size 432x288 with 1 Axes>"
      ]
     },
     "metadata": {
      "needs_background": "light"
     },
     "output_type": "display_data"
    },
    {
     "name": "stdout",
     "output_type": "stream",
     "text": [
      "bid is: 0.7151528478974893\n",
      "auction bid is: 0.4391696904104331\n"
     ]
    },
    {
     "data": {
      "image/png": "[encoded data removed]",
      "text/plain": [
       "<Figure size 432x288 with 1 Axes>"
      ]
     },
     "metadata": {
      "needs_background": "light"
     },
     "output_type": "display_data"
    },
    {
     "name": "stdout",
     "output_type": "stream",
     "text": [
      "bid is: 0.9032893343889917\n",
      "auction bid is: 0.38593185394388524\n"
     ]
    },
    {
     "data": {
      "image/png": "[encoded data removed]",
      "text/plain": [
       "<Figure size 432x288 with 1 Axes>"
      ]
     },
     "metadata": {
      "needs_background": "light"
     },
     "output_type": "display_data"
    },
    {
     "name": "stdout",
     "output_type": "stream",
     "text": [
      "bid is: 0.19339347891088932\n",
      "auction bid is: 0.49166405343444886\n"
     ]
    },
    {
     "data": {
      "image/png": "[encoded data removed]",
      "text/plain": [
       "<Figure size 432x288 with 1 Axes>"
      ]
     },
     "metadata": {
      "needs_background": "light"
     },
     "output_type": "display_data"
    },
    {
     "name": "stdout",
     "output_type": "stream",
     "text": [
      "bid is: 0.09957937161509245\n",
      "auction bid is: 0.4086312163252421\n"
     ]
    },
    {
     "data": {
      "image/png": "[encoded data removed]",
      "text/plain": [
       "<Figure size 432x288 with 1 Axes>"
      ]
     },
     "metadata": {
      "needs_background": "light"
     },
     "output_type": "display_data"
    },
    {
     "name": "stdout",
     "output_type": "stream",
     "text": [
      "bid is: 0.6863315172203218\n",
      "auction bid is: 0.31285364119835807\n"
     ]
    },
    {
     "data": {
      "image/png": "[encoded data removed]",
      "text/plain": [
       "<Figure size 432x288 with 1 Axes>"
      ]
     },
     "metadata": {
      "needs_background": "light"
     },
     "output_type": "display_data"
    },
    {
     "name": "stdout",
     "output_type": "stream",
     "text": [
      "bid is: 0.900326432704099\n",
      "auction bid is: 0.36692397377659847\n"
     ]
    },
    {
     "data": {
      "image/png": "[encoded data removed]",
      "text/plain": [
       "<Figure size 432x288 with 1 Axes>"
      ]
     },
     "metadata": {
      "needs_background": "light"
     },
     "output_type": "display_data"
    },
    {
     "name": "stdout",
     "output_type": "stream",
     "text": [
      "bid is: 0.40561159220579424\n",
      "auction bid is: 0.43359876725783764\n"
     ]
    },
    {
     "data": {
      "image/png": "[encoded data removed]",
      "text/plain": [
       "<Figure size 432x288 with 1 Axes>"
      ]
     },
     "metadata": {
      "needs_background": "light"
     },
     "output_type": "display_data"
    },
    {
     "name": "stdout",
     "output_type": "stream",
     "text": [
      "bid is: 0.925767133039431\n",
      "auction bid is: 0.4608454349631156\n"
     ]
    },
    {
     "data": {
      "image/png": "[encoded data removed]",
      "text/plain": [
       "<Figure size 432x288 with 1 Axes>"
      ]
     },
     "metadata": {
      "needs_background": "light"
     },
     "output_type": "display_data"
    },
    {
     "name": "stdout",
     "output_type": "stream",
     "text": [
      "bid is: 0.08129043512583001\n",
      "auction bid is: 0.4505325759656537\n"
     ]
    },
    {
     "data": {
      "image/png": "[encoded data removed]",
      "text/plain": [
       "<Figure size 432x288 with 1 Axes>"
      ]
     },
     "metadata": {
      "needs_background": "light"
     },
     "output_type": "display_data"
    },
    {
     "name": "stdout",
     "output_type": "stream",
     "text": [
      "bid is: 0.5583307027844443\n",
      "auction bid is: 0.34182250434832817\n"
     ]
    },
    {
     "data": {
      "image/png": "[encoded data removed]",
      "text/plain": [
       "<Figure size 432x288 with 1 Axes>"
      ]
     },
     "metadata": {
      "needs_background": "light"
     },
     "output_type": "display_data"
    },
    {
     "name": "stdout",
     "output_type": "stream",
     "text": [
      "bid is: 0.8918113767098177\n",
      "auction bid is: 0.4003957892478212\n"
     ]
    },
    {
     "data": {
      "image/png": "[encoded data removed]",
      "text/plain": [
       "<Figure size 432x288 with 1 Axes>"
      ]
     },
     "metadata": {
      "needs_background": "light"
     },
     "output_type": "display_data"
    },
    {
     "name": "stdout",
     "output_type": "stream",
     "text": [
      "bid is: 0.6279727477181294\n",
      "auction bid is: 0.43800604289647416\n"
     ]
    },
    {
     "data": {
      "image/png": "[encoded data removed]",
      "text/plain": [
       "<Figure size 432x288 with 1 Axes>"
      ]
     },
     "metadata": {
      "needs_background": "light"
     },
     "output_type": "display_data"
    },
    {
     "name": "stdout",
     "output_type": "stream",
     "text": [
      "0.2854653829427478\n"
     ]
    }
   ],
   "source": [
    "reward_arr = []\n",
    "bids_arr = []\n",
    "win_lose_arr = []\n",
    "probs_arr = []\n",
    "params_arr = []\n",
    "regret = 0\n",
    "n_trials = 100\n",
    "\n",
    "T_arr, F_arr = [], []\n",
    "\n",
    "for i in range(0, n_trials):\n",
    "    # b = biddingStrategy.bid([i]) # [i] is context, not used for now\n",
    "    b = random.random()\n",
    "    print(\"bid is:\", b)\n",
    "    normalized_prbs_arr = list(biddingStrategy.parameters().values())\n",
    "    normalized_prbs_arr = biddingStrategy.normalize_probs(normalized_prbs_arr)\n",
    "    params_arr.append(normalized_prbs_arr)\n",
    "    T_arr. append(list(biddingStrategy.parameters(\"T\").values()))\n",
    "    F_arr. append(list(biddingStrategy.parameters(\"F\").values()))\n",
    "    \n",
    "    auction_bid = 0.4 + (random.random() - 0.5) * 2 * 0.1 # generating some bid for the auction\n",
    "    print(\"auction bid is:\", auction_bid)\n",
    "    \n",
    "    bids_arr.append(b)\n",
    "    win = b > auction_bid\n",
    "    win_lose_arr.append(win)\n",
    "    regret += np.abs(b - auction_bid)\n",
    "    \n",
    "    biddingStrategy.discount(0.99)\n",
    "    \n",
    "    r = biddingStrategy.reward(bid_price=b, won=win, context=[i])\n",
    "    probs_arr.append(biddingStrategy.probabilities)\n",
    "    reward_arr.append(r)\n",
    "    \n",
    "    # plot\n",
    "    plt.bar(biddingStrategy.bid_model.keys(),params_arr[i])\n",
    "    plt.plot(biddingStrategy.bid_model.keys(), np.ones(n_bins)*desired_win_rate, c='red')\n",
    "    plt.show()\n",
    "    \n",
    "\n",
    "print(regret / n_trials)"
   ]
  },
  {
   "cell_type": "code",
   "execution_count": 10,
   "id": "1809734e",
   "metadata": {},
   "outputs": [],
   "source": [
    "# random - 0.4\n",
    "# some_base_logic_base_on_notebook_graphs - 0.29\n",
    "# our logic: 0.46-0.5"
   ]
  },
  {
   "cell_type": "code",
   "execution_count": 11,
   "id": "bb404e72",
   "metadata": {},
   "outputs": [],
   "source": [
    "# Moving parts:\n",
    "# n samples - agg strategy\n",
    "# discount rate\n",
    "# prior - moving part\n",
    "# normalize probs\n"
   ]
  },
  {
   "cell_type": "code",
   "execution_count": 12,
   "id": "f75dad73",
   "metadata": {},
   "outputs": [],
   "source": [
    "# TODO next steps:\n",
    "# 1. Full code overview including documentation and cleaning and removal + config file of parameters\n",
    "# 2. Plotting of a/a+b per each bandit (that is the expected value of each bandit) + std of each bandit (at this stage it's 100 bandits, but let's see)\n",
    "# STD: a*b / [(a+b)^2 * (a+b+1)]\n",
    "# 3. dive into context"
   ]
  },
  {
   "cell_type": "code",
   "execution_count": 19,
   "id": "91b2cbe9",
   "metadata": {},
   "outputs": [
    {
     "data": {
      "text/plain": [
       "[<matplotlib.lines.Line2D at 0x7f15edea52e8>]"
      ]
     },
     "execution_count": 19,
     "metadata": {},
     "output_type": "execute_result"
    },
    {
     "data": {
      "image/png": "[encoded data removed]",
      "text/plain": [
       "<Figure size 432x288 with 1 Axes>"
      ]
     },
     "metadata": {
      "needs_background": "light"
     },
     "output_type": "display_data"
    }
   ],
   "source": [
    "i=100\n",
    "alpha = [t[i] for t in T_arr]\n",
    "beta  = [f[i] for f in F_arr]\n",
    "mean = np.array([a/(a+b) for a,b in zip(alpha, beta)])\n",
    "std = np.sqrt([(a*b / ((a+b)**2 * (a+b+1))) for a,b in zip(alpha, beta)])\n",
    "plt.plot(np.arange(n_trials),mean, c='r')\n",
    "plt.plot(np.arange(n_trials),mean-std, c='b')\n",
    "plt.plot(np.arange(n_trials),mean+std, c='b')"
   ]
  },
  {
   "cell_type": "code",
   "execution_count": 22,
   "id": "902b760d",
   "metadata": {},
   "outputs": [
    {
     "data": {
      "text/plain": [
       "array([0.24622011, 0.24687899, 0.28565899, 0.25356631, 0.2389057 ,\n",
       "       0.29334491, 0.25717669, 0.30286931, 0.31431207, 0.27370028,\n",
       "       0.24807018, 0.23634542, 0.29186814, 0.25645829, 0.30253893,\n",
       "       0.26188959, 0.24271537, 0.23382261, 0.22954513, 0.22744332,\n",
       "       0.22639905, 0.22587728, 0.22561584, 0.22548465, 0.28513201,\n",
       "       0.31279558, 0.26905926, 0.30787859, 0.31319571, 0.29877435,\n",
       "       0.28045489, 0.25113935, 0.29995863, 0.31451431, 0.30409218,\n",
       "       0.27924863, 0.25058904, 0.23752013, 0.29255749, 0.25679004,\n",
       "       0.30269379, 0.26197533, 0.24275441, 0.29553225, 0.3144018 ,\n",
       "       0.27169316, 0.30884389, 0.26573849, 0.24446446, 0.23465067,\n",
       "       0.29086017, 0.2559761 , 0.30231262, 0.31437437, 0.2735388 ,\n",
       "       0.30948618, 0.26619572, 0.30676699, 0.2643676 , 0.30602482,\n",
       "       0.31375863, 0.30027801, 0.28014746, 0.31153691, 0.31116385,\n",
       "       0.27667295, 0.31050912, 0.31191496, 0.29614089, 0.27835582,\n",
       "       0.28331666, 0.31236855, 0.31037687, 0.27707396, 0.24959979,\n",
       "       0.23705961, 0.29228823, 0.31407496, 0.30752444, 0.28975902,\n",
       "       0.27320897, 0.28381955, 0.2526826 , 0.23849128, 0.29312136,\n",
       "       0.25706276, 0.24050939, 0.29427579, 0.25762521, 0.24076732,\n",
       "       0.23289549, 0.28979914, 0.31370947, 0.2702251 , 0.24649687,\n",
       "       0.29756058, 0.25926162, 0.30382402, 0.26261093, 0.24304374])"
      ]
     },
     "execution_count": 22,
     "metadata": {},
     "output_type": "execute_result"
    }
   ],
   "source": [
    "std"
   ]
  },
  {
   "cell_type": "code",
   "execution_count": null,
   "id": "42040eb9",
   "metadata": {},
   "outputs": [],
   "source": []
  }
 ],
 "metadata": {
  "kernelspec": {
   "display_name": "Python 3",
   "language": "python",
   "name": "python3"
  },
  "language_info": {
   "codemirror_mode": {
    "name": "ipython",
    "version": 3
   },
   "file_extension": ".py",
   "mimetype": "text/x-python",
   "name": "python",
   "nbconvert_exporter": "python",
   "pygments_lexer": "ipython3",
   "version": "3.6.9"
  }
 },
 "nbformat": 4,
 "nbformat_minor": 5
}
