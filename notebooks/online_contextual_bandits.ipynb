{
 "cells": [
  {
   "cell_type": "code",
   "execution_count": 1,
   "metadata": {},
   "outputs": [],
   "source": [
    "import sys\n",
    "import matplotlib.pyplot as plt\n",
    "from contextualbandits import online as cb\n",
    "from copy import deepcopy as clone\n",
    "import numpy as np\n",
    "import pandas as pd\n",
    "# The only classifiers that have partial_fit\n",
    "# See: https://scikit-learn.org/0.15/modules/scaling_strategies.html\n",
    "from sklearn.linear_model import SGDClassifier, PassiveAggressiveClassifier, Perceptron\n",
    "from sklearn.naive_bayes import MultinomialNB, BernoulliNB\n",
    "sys.path.append(\"../src\")\n",
    "\n",
    "%matplotlib inline"
   ]
  },
  {
   "cell_type": "code",
   "execution_count": 2,
   "metadata": {},
   "outputs": [],
   "source": [
    "from wrappers import decision_function_from_proba"
   ]
  },
  {
   "cell_type": "code",
   "execution_count": 3,
   "metadata": {},
   "outputs": [],
   "source": [
    "df = pd.read_csv(\"../data/data.csv\")\n",
    "\n",
    "df = df.sample(frac=0.02)"
   ]
  },
  {
   "cell_type": "markdown",
   "metadata": {},
   "source": [
    "# Read data & preprocess"
   ]
  },
  {
   "cell_type": "code",
   "execution_count": 4,
   "metadata": {},
   "outputs": [],
   "source": [
    "def keep_values_by_min_freq(df, col, freq=0.9,other=\"OTHER\"):\n",
    "    ds = df[col].value_counts(normalize=True).cumsum()\n",
    "    mapped2other = []\n",
    "    marked_as_other = False\n",
    "    for val, prop in ds.iteritems():\n",
    "        if marked_as_other:\n",
    "            mapped2other.append(val)\n",
    "        if prop>freq:\n",
    "            marked_as_other=True\n",
    "    df.loc[df[col].isin(mapped2other), col]=other\n",
    "    df[col] = df[col].astype('category')\n",
    "    \n",
    "    return df"
   ]
  },
  {
   "cell_type": "code",
   "execution_count": 5,
   "metadata": {},
   "outputs": [
    {
     "data": {
      "text/plain": [
       "Index(['placementType_banner', 'placementType_interstitial',\n",
       "       'placementType_rewarded'],\n",
       "      dtype='object')"
      ]
     },
     "execution_count": 5,
     "metadata": {},
     "output_type": "execute_result"
    }
   ],
   "source": [
    "def preprocess(df):\n",
    "    df = df.drop(\"sessionId\", axis=1)\n",
    "    df[\"eventTimestamp\"] = pd.to_datetime(df[\"eventTimestamp\"]*1_000_000)\n",
    "    df[\"day_of_week\"]=df[\"eventTimestamp\"].dt.weekday.astype(\"category\")\n",
    "    df[\"time_of_day\"]=df[\"eventTimestamp\"].dt.hour.astype(\"category\")\n",
    "    df.sort_values(by='eventTimestamp', inplace=True)    \n",
    "    df = df.drop(\"eventTimestamp\", axis=1)\n",
    "    for col, dtype in df.dtypes.iteritems():\n",
    "        if str(dtype) == 'object':\n",
    "            df = keep_values_by_min_freq(df, col)\n",
    "    \n",
    "    df = keep_values_by_min_freq(df, 'adNetworkId')\n",
    "    df = keep_values_by_min_freq(df, 'userTrackingAuth')\n",
    "    \n",
    "    # a, r, X for models\n",
    "    a = df[\"bidPrice\"].round(2)\n",
    "    r = df[\"hasWon\"]\n",
    "    df = df.drop([\"bidPrice\", \"hasWon\", \"bundleId\", \"advertisedBundle\"] ,axis=1)\n",
    "    X = pd.get_dummies(df)\n",
    "    \n",
    "    return X, a, r\n",
    "\n",
    "def preprocess_only_one_feature(df):\n",
    "    # preprocess\n",
    "    df = df[['bidPrice', 'placementType', 'hasWon']]\n",
    "    \n",
    "    # a, r, X for models\n",
    "    a = df[\"bidPrice\"].round(0)\n",
    "    r = df[\"hasWon\"]\n",
    "    df = df.drop([\"bidPrice\", \"hasWon\"] ,axis=1)\n",
    "    X = pd.get_dummies(df)\n",
    "    \n",
    "    return X, a, r\n",
    "\n",
    "\n",
    "# sample\n",
    "### Note for arms - we should know in advance, per each context, what is the maximum bid\n",
    "# e.g. for iOS, size=320x50, plc=Banner, we should know that 10 is the maximum and not create an arm for X>10...\n",
    "# Maybe - it should be calculated every X days (1 day...)\n",
    "\n",
    "# df = df.query(\"placementType=='banner' and bidPrice<1.01\").drop(\"placementType\",axis=1)\n",
    "df.drop(\"placementType\", axis=1)\n",
    "\n",
    "# X, a, r = preprocess(df)\n",
    "X, a, r = preprocess_only_one_feature(df)\n",
    "X.columns"
   ]
  },
  {
   "cell_type": "markdown",
   "metadata": {},
   "source": [
    "# Contextual bandits"
   ]
  },
  {
   "cell_type": "code",
   "execution_count": 67,
   "metadata": {},
   "outputs": [
    {
     "data": {
      "text/plain": [
       "0.6321205588285579"
      ]
     },
     "execution_count": 67,
     "metadata": {},
     "output_type": "execute_result"
    }
   ],
   "source": [
    "1-np.exp(-0.01/(0.11-0.1))"
   ]
  },
  {
   "cell_type": "code",
   "execution_count": 76,
   "metadata": {},
   "outputs": [],
   "source": [
    "class SGDClassifierWithNormalization(SGDClassifier):\n",
    "    def predict_proba(self, X):\n",
    "        probs = super().predict_proba(X)[:, 1] # predict proba as of any predict_proba model classifier\n",
    "        y = 1 / np.abs(probs - desired_win_rate + 0.0001) # Numerical stability\n",
    "        y = 1 - np.exp(-y/100) # Normalize\n",
    "        ret = np.vstack((1-y, y)).T\n",
    "\n",
    "        return ret"
   ]
  },
  {
   "cell_type": "code",
   "execution_count": 77,
   "metadata": {
    "scrolled": true
   },
   "outputs": [],
   "source": [
    "bids = sorted(set(a))\n",
    "n_arms = len(bids)\n",
    "base_model = SGDClassifierWithNormalization(loss='log')\n",
    "\n",
    "desired_win_rate=0.1\n",
    "\n",
    "logreg_sg = cb.SeparateClassifiers(clone(base_model), n_arms, batch_train=True)"
   ]
  },
  {
   "cell_type": "code",
   "execution_count": 78,
   "metadata": {},
   "outputs": [],
   "source": [
    "def simulate(model, X, a , r, chunk = 100, limit=100):\n",
    "    X,a,r=map(clone,[X,a,r]) # copy the existing data so we won't change it\n",
    "    \n",
    "    ### TODO: Update reward with neighbor arms\n",
    "    \n",
    "    train_X, train_a, train_r = X.iloc[:chunk,:], a[:chunk], r[:chunk] \n",
    "    # split the data into train\n",
    "    # Get chunk data points for first input\n",
    "    X, a, r = X.iloc[chunk:,:], a[chunk:], r[chunk:]\n",
    "    test_X, test_a, test_r = X.iloc[:chunk,:], a[:chunk], r[:chunk]\n",
    "    n_iterations = 1\n",
    "    regrets = []\n",
    "    \n",
    "    while len(X)>chunk:\n",
    "        model.partial_fit(train_X,train_a,train_r)\n",
    "        pred_bids = model.predict(test_X)\n",
    "        regrets.append(np.sum([np.abs(bids[i]-y) for i,y in zip(pred_bids,test_r.values)])/chunk)\n",
    "        train_X, train_a, train_r    = X.iloc[:chunk,:], a[:chunk], r[:chunk]\n",
    "        X, a, r = X.iloc[chunk:,:], a[chunk:], r[chunk:]\n",
    "        test_X, test_a, test_r = X.iloc[:chunk,:], a[:chunk], r[:chunk]\n",
    "        n_iterations+=1\n",
    "        if limit>0 and limit<n_iterations:\n",
    "            break\n",
    "            \n",
    "    return regrets"
   ]
  },
  {
   "cell_type": "markdown",
   "metadata": {},
   "source": [
    "# plot"
   ]
  },
  {
   "cell_type": "code",
   "execution_count": 79,
   "metadata": {},
   "outputs": [
    {
     "data": {
      "text/plain": [
       "Text(0.5, 0, 'iterations')"
      ]
     },
     "execution_count": 79,
     "metadata": {},
     "output_type": "execute_result"
    },
    {
     "data": {
      "image/png": "[encoded data removed]",
      "text/plain": [
       "<Figure size 432x288 with 1 Axes>"
      ]
     },
     "metadata": {
      "needs_background": "light"
     },
     "output_type": "display_data"
    }
   ],
   "source": [
    "regret = simulate(logreg_sg, X, a, r)\n",
    "plt.plot(np.arange(len(regret)), regret)\n",
    "plt.ylabel(\"regret\")\n",
    "plt.xlabel(\"iterations\")"
   ]
  },
  {
   "cell_type": "code",
   "execution_count": null,
   "metadata": {},
   "outputs": [],
   "source": []
  }
 ],
 "metadata": {
  "kernelspec": {
   "display_name": "Python 3",
   "language": "python",
   "name": "python3"
  },
  "language_info": {
   "codemirror_mode": {
    "name": "ipython",
    "version": 3
   },
   "file_extension": ".py",
   "mimetype": "text/x-python",
   "name": "python",
   "nbconvert_exporter": "python",
   "pygments_lexer": "ipython3",
   "version": "3.6.9"
  }
 },
 "nbformat": 4,
 "nbformat_minor": 4
}
