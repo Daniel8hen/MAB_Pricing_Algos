{
 "cells": [
  {
   "cell_type": "code",
   "execution_count": 1,
   "metadata": {},
   "outputs": [],
   "source": [
    "import sys, random\n",
    "import matplotlib.pyplot as plt\n",
    "from contextualbandits import online as cb\n",
    "from copy import deepcopy as clone\n",
    "import numpy as np\n",
    "import pandas as pd\n",
    "\n",
    "%matplotlib inline"
   ]
  },
  {
   "cell_type": "markdown",
   "metadata": {},
   "source": [
    "# ContextualBandits Module\n",
    "  1. A great library.\n",
    "  1. Implements multiple strategies.\n",
    "  1. Supports both online and offline learning.\n",
    "  1. Maintained by David Cortes\n",
    "## Online learning\n",
    "Any model that implements these 2 methods is supported:\n",
    "    * partial_fit\n",
    "    * predict_proba\n",
    "    \n",
    "We'll be using `SGDClassifer` with the `logistic` loss, which is equivalent to `LogisticRegression`"
   ]
  },
  {
   "cell_type": "code",
   "execution_count": null,
   "metadata": {},
   "outputs": [],
   "source": [
    "# Only classifiers that have partial_fit are relevant\n",
    "# See: https://scikit-learn.org/0.15/modules/scaling_strategies.html\n",
    "from sklearn.linear_model import SGDClassifier"
   ]
  },
  {
   "cell_type": "markdown",
   "metadata": {},
   "source": [
    "We'll use synthetic data in order to evaluate the learning curve of the model.\n",
    "<table>\n",
    "    <tr><td>&nbsp;</td><th>Android</th><th>iOS</th></tr>\n",
    "    <tr><th>DE</th><td>4</td><td>5</td></tr>\n",
    "    <tr><th>GB</th><td>5</td><td>6</td></tr>\n",
    "    <tr><th>US</th><td>7</td><td>9</td></tr>\n",
    "</table>"
   ]
  },
  {
   "cell_type": "code",
   "execution_count": 2,
   "metadata": {},
   "outputs": [
    {
     "data": {
      "text/html": [
       "<div>\n",
       "<style scoped>\n",
       "    .dataframe tbody tr th:only-of-type {\n",
       "        vertical-align: middle;\n",
       "    }\n",
       "\n",
       "    .dataframe tbody tr th {\n",
       "        vertical-align: top;\n",
       "    }\n",
       "\n",
       "    .dataframe thead th {\n",
       "        text-align: right;\n",
       "    }\n",
       "</style>\n",
       "<table border=\"1\" class=\"dataframe\">\n",
       "  <thead>\n",
       "    <tr style=\"text-align: right;\">\n",
       "      <th></th>\n",
       "      <th>bid</th>\n",
       "      <th>hasWon</th>\n",
       "      <th>geo_DE</th>\n",
       "      <th>geo_GB</th>\n",
       "      <th>geo_US</th>\n",
       "      <th>deviceOs_Android</th>\n",
       "      <th>deviceOs_iOS</th>\n",
       "    </tr>\n",
       "  </thead>\n",
       "  <tbody>\n",
       "    <tr>\n",
       "      <th>0</th>\n",
       "      <td>792</td>\n",
       "      <td>True</td>\n",
       "      <td>1</td>\n",
       "      <td>0</td>\n",
       "      <td>0</td>\n",
       "      <td>0</td>\n",
       "      <td>1</td>\n",
       "    </tr>\n",
       "    <tr>\n",
       "      <th>1</th>\n",
       "      <td>489</td>\n",
       "      <td>False</td>\n",
       "      <td>0</td>\n",
       "      <td>0</td>\n",
       "      <td>1</td>\n",
       "      <td>1</td>\n",
       "      <td>0</td>\n",
       "    </tr>\n",
       "    <tr>\n",
       "      <th>2</th>\n",
       "      <td>906</td>\n",
       "      <td>True</td>\n",
       "      <td>0</td>\n",
       "      <td>1</td>\n",
       "      <td>0</td>\n",
       "      <td>0</td>\n",
       "      <td>1</td>\n",
       "    </tr>\n",
       "    <tr>\n",
       "      <th>3</th>\n",
       "      <td>701</td>\n",
       "      <td>True</td>\n",
       "      <td>0</td>\n",
       "      <td>0</td>\n",
       "      <td>1</td>\n",
       "      <td>1</td>\n",
       "      <td>0</td>\n",
       "    </tr>\n",
       "    <tr>\n",
       "      <th>4</th>\n",
       "      <td>455</td>\n",
       "      <td>False</td>\n",
       "      <td>0</td>\n",
       "      <td>0</td>\n",
       "      <td>1</td>\n",
       "      <td>1</td>\n",
       "      <td>0</td>\n",
       "    </tr>\n",
       "    <tr>\n",
       "      <th>...</th>\n",
       "      <td>...</td>\n",
       "      <td>...</td>\n",
       "      <td>...</td>\n",
       "      <td>...</td>\n",
       "      <td>...</td>\n",
       "      <td>...</td>\n",
       "      <td>...</td>\n",
       "    </tr>\n",
       "    <tr>\n",
       "      <th>495</th>\n",
       "      <td>537</td>\n",
       "      <td>False</td>\n",
       "      <td>0</td>\n",
       "      <td>1</td>\n",
       "      <td>0</td>\n",
       "      <td>0</td>\n",
       "      <td>1</td>\n",
       "    </tr>\n",
       "    <tr>\n",
       "      <th>496</th>\n",
       "      <td>505</td>\n",
       "      <td>True</td>\n",
       "      <td>1</td>\n",
       "      <td>0</td>\n",
       "      <td>0</td>\n",
       "      <td>0</td>\n",
       "      <td>1</td>\n",
       "    </tr>\n",
       "    <tr>\n",
       "      <th>497</th>\n",
       "      <td>52</td>\n",
       "      <td>False</td>\n",
       "      <td>1</td>\n",
       "      <td>0</td>\n",
       "      <td>0</td>\n",
       "      <td>0</td>\n",
       "      <td>1</td>\n",
       "    </tr>\n",
       "    <tr>\n",
       "      <th>498</th>\n",
       "      <td>525</td>\n",
       "      <td>False</td>\n",
       "      <td>0</td>\n",
       "      <td>0</td>\n",
       "      <td>1</td>\n",
       "      <td>1</td>\n",
       "      <td>0</td>\n",
       "    </tr>\n",
       "    <tr>\n",
       "      <th>499</th>\n",
       "      <td>795</td>\n",
       "      <td>True</td>\n",
       "      <td>0</td>\n",
       "      <td>1</td>\n",
       "      <td>0</td>\n",
       "      <td>1</td>\n",
       "      <td>0</td>\n",
       "    </tr>\n",
       "  </tbody>\n",
       "</table>\n",
       "<p>500 rows × 7 columns</p>\n",
       "</div>"
      ],
      "text/plain": [
       "     bid  hasWon  geo_DE  geo_GB  geo_US  deviceOs_Android  deviceOs_iOS\n",
       "0    792    True       1       0       0                 0             1\n",
       "1    489   False       0       0       1                 1             0\n",
       "2    906    True       0       1       0                 0             1\n",
       "3    701    True       0       0       1                 1             0\n",
       "4    455   False       0       0       1                 1             0\n",
       "..   ...     ...     ...     ...     ...               ...           ...\n",
       "495  537   False       0       1       0                 0             1\n",
       "496  505    True       1       0       0                 0             1\n",
       "497   52   False       1       0       0                 0             1\n",
       "498  525   False       0       0       1                 1             0\n",
       "499  795    True       0       1       0                 1             0\n",
       "\n",
       "[500 rows x 7 columns]"
      ]
     },
     "execution_count": 2,
     "metadata": {},
     "output_type": "execute_result"
    }
   ],
   "source": [
    "prices_dict = {\n",
    "     ('US', 'Android'):7,\n",
    "     ('GB', 'Android'):5,\n",
    "     ('DE', 'Android'):4,\n",
    "     ('US', 'iOS'):9,\n",
    "     ('GB', 'iOS'):6,\n",
    "     ('DE', 'iOS'):5,\n",
    "              }\n",
    "\n",
    "\n",
    "def synthesize_data(prices_dict, n=10, epsilon=0.01, drop=[]):\n",
    "    \"\"\"This function generates data \n",
    "    Parameters:\n",
    "        prices_dict: dictionary holds relevant context and historical prices - geo + deviceOs\n",
    "        n: dataset size\n",
    "        epsilon: noise for price decision\n",
    "    Returns:\n",
    "        df: Pandas DataFrame\n",
    "    \"\"\"\n",
    "    data = []\n",
    "    for i in range(n):\n",
    "        geo = random.choice([\"US\",\"US\",\"US\",\"US\",\"US\", \"GB\",\"GB\", \"DE\"])\n",
    "        deviceOs = random.choice(['iOS', 'Android'])\n",
    "        bid = random.randint(1,1000)\n",
    "        has_won = (bid/100) >= prices_dict[(geo, deviceOs)] + 2 * epsilon * (random.random() - 0.5)\n",
    "        data.append((geo, deviceOs, bid, has_won))\n",
    "    df = pd.DataFrame(data, columns = ['geo', 'deviceOs', 'bid', 'hasWon'])\n",
    "    if drop:\n",
    "        df.drop(drop, inplace=True, axis=1)\n",
    "    return pd.get_dummies(df)\n",
    "\n",
    "\n",
    "df = synthesize_data(prices_dict, n=500)\n",
    "df"
   ]
  },
  {
   "cell_type": "markdown",
   "metadata": {},
   "source": [
    "Which is already one hot encoded.\n",
    "\n",
    "## Instead of (X,y) we have (X,r,a)\n",
    "Where\n",
    "  1. `X` is the context (equivalent to `features` in supervised learning).\n",
    "  1. `r` is the reward (equivalent to `y` (the target) in supervised learning).\n",
    "  1. `a` is the arm (roughly equivalent to a model index - e.g. a price bin)."
   ]
  },
  {
   "cell_type": "code",
   "execution_count": 3,
   "metadata": {},
   "outputs": [],
   "source": [
    "X = df.drop([\"hasWon\", \"bid\"], axis=1)\n",
    "r = df['hasWon']\n",
    "a = df[\"bid\"]"
   ]
  },
  {
   "cell_type": "markdown",
   "metadata": {},
   "source": [
    "## Custom aggregation strategy\n",
    "\n",
    "First, we define a `desired_win_rate` for each arm.\n",
    "\n",
    "Obviously, if a price bin (arm) wins 100% of the time, then the price is too high.\n",
    "\n",
    "On the contrary, if a price bin (arm) wins 0% of the time, then the price is too low.\n",
    "\n",
    "We do not assume a linear relation between the probability and the price, and we let the bandit learn it by itself.\n",
    "\n",
    "## Implementing a custom desired win rate\n",
    "We modify the `predict_proba` method such that the closer a probability to a predfined `desired_win_rate` is, the higher the outcome."
   ]
  },
  {
   "cell_type": "code",
   "execution_count": 4,
   "metadata": {},
   "outputs": [],
   "source": [
    "class SGDClassifierWithNormalization(SGDClassifier):\n",
    "    def __init__(self, loss, desired_win_rate, eps=0.0001, normalizing_factor=1e-3, **kwargs):\n",
    "        super().__init__(loss, **kwargs)\n",
    "        self.desired_win_rate = desired_win_rate\n",
    "        self.eps = eps\n",
    "        self.normalizing_factor=normalizing_factor\n",
    "        \n",
    "    def predict_proba(self, X):\n",
    "        probs = super().predict_proba(X)[:, 1] # predict proba as of any predict_proba model classifier\n",
    "        y = 1 / np.abs(probs - self.desired_win_rate + self.eps) # Numerical stability\n",
    "        y = 1 - np.exp(-y*self.normalizing_factor) # Normalize\n",
    "        \n",
    "        return np.vstack((1-y, y)).T"
   ]
  },
  {
   "cell_type": "markdown",
   "metadata": {},
   "source": [
    "## Binning\n",
    "We binned the prices to the nearest cent, between 0 and $10.\n",
    "\n",
    "Meaning, that we have 1000 bins."
   ]
  },
  {
   "cell_type": "code",
   "execution_count": 5,
   "metadata": {
    "scrolled": true
   },
   "outputs": [],
   "source": [
    "n_arms = 1000 # number of bins\n",
    "bids = np.arange(0,1001)\n",
    "base_model = SGDClassifierWithNormalization(desired_win_rate=0.9, loss='log')\n",
    "# SeperateClassifiers, there are many strategies for sampling\n",
    "logreg_sg = cb.SeparateClassifiers(clone(base_model), n_arms, batch_train=True)"
   ]
  },
  {
   "cell_type": "markdown",
   "metadata": {},
   "source": [
    "## Simulation"
   ]
  },
  {
   "cell_type": "code",
   "execution_count": 6,
   "metadata": {},
   "outputs": [],
   "source": [
    "def multiple_update(train_X,train_a,train_r):\n",
    "    \"\"\"\n",
    "    If we won with a $5 bid, update also $6, $7 etc... with a 'win' rewards\n",
    "    If we lost with a $5 bid, update also $4, $3 etc... with a 'lose' rewards\n",
    "    \"\"\"\n",
    "    temp_df = pd.concat([train_X,train_a,train_r], axis=1)\n",
    "    temp_df[\"arms\"] = temp_df.apply(lambda row: [a for a in bids if a>=row[\"bid\"]] if row[\"hasWon\"] else\n",
    "                          [a for a in bids if a<=row[\"bid\"]],axis=1)\n",
    "    temp_df = temp_df.drop(\"bid\", axis=1).explode(\"arms\")\n",
    "    train_X = temp_df.drop([\"hasWon\",\"arms\"],axis=1)\n",
    "    train_r = temp_df[\"hasWon\"]\n",
    "    train_a = temp_df[\"arms\"]\n",
    "    return train_X,train_a,train_r\n",
    "\n",
    "def simulate(model, X, a , r,chunk = 10):\n",
    "    X,a,r=map(clone,[X,a,r]) # copy the existing data so we won't change it\n",
    "    \n",
    "    train_X, train_a, train_r = X.iloc[:chunk,:], a[:chunk], r[:chunk]\n",
    "    # split the data into train\n",
    "    # Get chunk data points for first input\n",
    "    X, a, r = X.iloc[chunk:,:], a[chunk:], r[chunk:]\n",
    "    test_X, test_a, test_r = X.iloc[:chunk,:], a[:chunk], r[:chunk]\n",
    "    regrets = []\n",
    "    #TODO: Add initial train\n",
    "    model.partial_fit(train_X,train_a,train_r)\n",
    "    while len(X)>chunk:\n",
    "        train_X,train_a,train_r = multiple_update(train_X,train_a,train_r)\n",
    "        model.partial_fit(train_X,train_a,train_r)\n",
    "        pred_bids = model.predict(test_X)\n",
    "        assert chunk==len(test_a) and chunk==len(pred_bids)\n",
    "        regret = np.mean([np.abs(b-y) for b,y in zip(pred_bids,test_a.values)])\n",
    "        regrets.append(regret)\n",
    "        train_X, train_a, train_r    = X.iloc[:chunk,:], a[:chunk], r[:chunk]\n",
    "        X, a, r = X.iloc[chunk:,:], a[chunk:], r[chunk:]\n",
    "        test_X, test_a, test_r = X.iloc[:chunk,:], a[:chunk], r[:chunk]\n",
    "            \n",
    "    return regrets"
   ]
  },
  {
   "cell_type": "markdown",
   "metadata": {},
   "source": [
    "# Regret plot"
   ]
  },
  {
   "cell_type": "code",
   "execution_count": 7,
   "metadata": {},
   "outputs": [
    {
     "data": {
      "text/plain": [
       "Text(0.5, 0, 'iterations')"
      ]
     },
     "execution_count": 7,
     "metadata": {},
     "output_type": "execute_result"
    },
    {
     "data": {
      "image/png": "[encoded data removed]",
      "text/plain": [
       "<Figure size 432x288 with 1 Axes>"
      ]
     },
     "metadata": {
      "needs_background": "light"
     },
     "output_type": "display_data"
    }
   ],
   "source": [
    "regret = simulate(logreg_sg, X, a, r)\n",
    "plt.plot(np.arange(len(regret)), regret)\n",
    "plt.ylabel(\"regret\")\n",
    "plt.xlabel(\"iterations\")"
   ]
  },
  {
   "cell_type": "markdown",
   "metadata": {},
   "source": [
    "## Smoothing out noise"
   ]
  },
  {
   "cell_type": "code",
   "execution_count": 8,
   "metadata": {},
   "outputs": [
    {
     "data": {
      "text/plain": [
       "Text(0.5, 0, 'iterations')"
      ]
     },
     "execution_count": 8,
     "metadata": {},
     "output_type": "execute_result"
    },
    {
     "data": {
      "image/png": "[encoded data removed]",
      "text/plain": [
       "<Figure size 432x288 with 1 Axes>"
      ]
     },
     "metadata": {
      "needs_background": "light"
     },
     "output_type": "display_data"
    }
   ],
   "source": [
    "window_size=10\n",
    "regret_smooth=np.convolve(regret,np.ones(window_size), 'valid')/window_size\n",
    "plt.plot(np.arange(len(regret_smooth)), regret_smooth)\n",
    "plt.ylabel(\"regret\")\n",
    "plt.xlabel(\"iterations\")\n",
    "# plt.ylim((0,0.3))"
   ]
  },
  {
   "cell_type": "markdown",
   "metadata": {},
   "source": [
    "# Context-wise analysis"
   ]
  },
  {
   "cell_type": "code",
   "execution_count": 9,
   "metadata": {},
   "outputs": [
    {
     "name": "stdout",
     "output_type": "stream",
     "text": [
      "Index(['geo_DE', 'geo_GB', 'geo_US', 'deviceOs_Android', 'deviceOs_iOS'], dtype='object')\n"
     ]
    },
    {
     "data": {
      "text/plain": [
       "{'choice': array([874, 531, 560, 881, 573, 610]),\n",
       " 'score': array([[0.01048292],\n",
       "        [0.01161635],\n",
       "        [0.0112145 ],\n",
       "        [0.02651832],\n",
       "        [0.01115779],\n",
       "        [0.01136556]]),\n",
       " 'bid': [874, 531, 560, 881, 573, 610]}"
      ]
     },
     "execution_count": 9,
     "metadata": {},
     "output_type": "execute_result"
    }
   ],
   "source": [
    "print(X.columns)\n",
    "pred = logreg_sg.predict(np.array([\n",
    "    [0,0,1,1,0], # US, Android\n",
    "    [0,1,0,1,0], # GB, Android\n",
    "    [1,0,0,1,0], # DE, Android\n",
    "    [0,0,1,0,1], # US, IOS\n",
    "    [0,1,0,0,1], # GB, IOS\n",
    "    [1,0,0,0,1], # DE, IOS\n",
    "]), output_score=True)\n",
    "pred[\"bid\"] = [bids[y] for y in pred['choice']]\n",
    "pred"
   ]
  },
  {
   "cell_type": "code",
   "execution_count": 10,
   "metadata": {},
   "outputs": [
    {
     "data": {
      "text/html": [
       "<div>\n",
       "<style scoped>\n",
       "    .dataframe tbody tr th:only-of-type {\n",
       "        vertical-align: middle;\n",
       "    }\n",
       "\n",
       "    .dataframe tbody tr th {\n",
       "        vertical-align: top;\n",
       "    }\n",
       "\n",
       "    .dataframe thead th {\n",
       "        text-align: right;\n",
       "    }\n",
       "</style>\n",
       "<table border=\"1\" class=\"dataframe\">\n",
       "  <thead>\n",
       "    <tr style=\"text-align: right;\">\n",
       "      <th></th>\n",
       "      <th>geo</th>\n",
       "      <th>deviceOs</th>\n",
       "      <th>actual</th>\n",
       "      <th>bid</th>\n",
       "    </tr>\n",
       "  </thead>\n",
       "  <tbody>\n",
       "    <tr>\n",
       "      <th>0</th>\n",
       "      <td>US</td>\n",
       "      <td>Android</td>\n",
       "      <td>7</td>\n",
       "      <td>8.74</td>\n",
       "    </tr>\n",
       "    <tr>\n",
       "      <th>1</th>\n",
       "      <td>GB</td>\n",
       "      <td>Android</td>\n",
       "      <td>5</td>\n",
       "      <td>5.31</td>\n",
       "    </tr>\n",
       "    <tr>\n",
       "      <th>2</th>\n",
       "      <td>DE</td>\n",
       "      <td>Android</td>\n",
       "      <td>4</td>\n",
       "      <td>5.60</td>\n",
       "    </tr>\n",
       "    <tr>\n",
       "      <th>3</th>\n",
       "      <td>US</td>\n",
       "      <td>iOS</td>\n",
       "      <td>9</td>\n",
       "      <td>8.81</td>\n",
       "    </tr>\n",
       "    <tr>\n",
       "      <th>4</th>\n",
       "      <td>GB</td>\n",
       "      <td>iOS</td>\n",
       "      <td>6</td>\n",
       "      <td>5.73</td>\n",
       "    </tr>\n",
       "    <tr>\n",
       "      <th>5</th>\n",
       "      <td>DE</td>\n",
       "      <td>iOS</td>\n",
       "      <td>5</td>\n",
       "      <td>6.10</td>\n",
       "    </tr>\n",
       "  </tbody>\n",
       "</table>\n",
       "</div>"
      ],
      "text/plain": [
       "  geo deviceOs  actual   bid\n",
       "0  US  Android       7  8.74\n",
       "1  GB  Android       5  5.31\n",
       "2  DE  Android       4  5.60\n",
       "3  US      iOS       9  8.81\n",
       "4  GB      iOS       6  5.73\n",
       "5  DE      iOS       5  6.10"
      ]
     },
     "execution_count": 10,
     "metadata": {},
     "output_type": "execute_result"
    }
   ],
   "source": [
    "df_summary = \\\n",
    "pd.DataFrame([(p[0][0], p[0][1], p[1], c/100) for p,c in zip(prices_dict.items(), pred[\"choice\"])],\n",
    "            columns=[\"geo\", \"deviceOs\", \"actual\", \"bid\"])\n",
    "df_summary"
   ]
  },
  {
   "cell_type": "code",
   "execution_count": 11,
   "metadata": {},
   "outputs": [
    {
     "data": {
      "text/plain": [
       "0.8683333333333331"
      ]
     },
     "execution_count": 11,
     "metadata": {},
     "output_type": "execute_result"
    }
   ],
   "source": [
    "average_regret = (df_summary[\"actual\"]-df_summary[\"bid\"]).abs().sum()/len(pred[\"choice\"])\n",
    "average_regret"
   ]
  },
  {
   "cell_type": "markdown",
   "metadata": {},
   "source": [
    "# Smaller context\n",
    "## Only Device Os"
   ]
  },
  {
   "cell_type": "code",
   "execution_count": null,
   "metadata": {},
   "outputs": [],
   "source": [
    "df = synthesize_data(prices_dict, n=500, drop='geo')\n",
    "X = df.drop([\"hasWon\", \"bid\"], axis=1)\n",
    "r = df['hasWon']\n",
    "a = df[\"bid\"]\n",
    "one_feature_model = cb.SeparateClassifiers(clone(base_model), n_arms, batch_train=True)\n",
    "simulate(one_feature_model, X, a, r)\n",
    "print(X.columns)"
   ]
  },
  {
   "cell_type": "code",
   "execution_count": null,
   "metadata": {},
   "outputs": [],
   "source": [
    "pred_bids = one_feature_model.predict(np.eye(X.shape[1]))\n",
    "one_feature_bid = dict(zip(X.columns, pred_bids))\n",
    "one_feature_bid"
   ]
  },
  {
   "cell_type": "code",
   "execution_count": null,
   "metadata": {},
   "outputs": [],
   "source": [
    "df_summary.groupby(\"deviceOs\")[\"actual\"].mean()"
   ]
  },
  {
   "cell_type": "markdown",
   "metadata": {},
   "source": [
    "## Only Device Geo"
   ]
  },
  {
   "cell_type": "code",
   "execution_count": null,
   "metadata": {},
   "outputs": [],
   "source": [
    "df = synthesize_data(prices_dict, n=500, drop='deviceOs')\n",
    "X = df.drop([\"hasWon\", \"bid\"], axis=1)\n",
    "r = df['hasWon']\n",
    "a = df[\"bid\"]\n",
    "one_feature_model = cb.SeparateClassifiers(clone(base_model), n_arms, batch_train=True)\n",
    "simulate(one_feature_model, X, a, r)\n",
    "print(X.columns)"
   ]
  },
  {
   "cell_type": "code",
   "execution_count": null,
   "metadata": {},
   "outputs": [],
   "source": [
    "pred_bids = one_feature_model.predict(np.eye(X.shape[1]))\n",
    "one_feature_bid = dict(zip(X.columns, pred_bids))\n",
    "one_feature_bid"
   ]
  },
  {
   "cell_type": "code",
   "execution_count": null,
   "metadata": {},
   "outputs": [],
   "source": [
    "df_summary.groupby(\"geo\")[\"actual\"].mean()"
   ]
  }
 ],
 "metadata": {
  "kernelspec": {
   "display_name": "Python 3",
   "language": "python",
   "name": "python3"
  },
  "language_info": {
   "codemirror_mode": {
    "name": "ipython",
    "version": 3
   },
   "file_extension": ".py",
   "mimetype": "text/x-python",
   "name": "python",
   "nbconvert_exporter": "python",
   "pygments_lexer": "ipython3",
   "version": "3.8.5"
  }
 },
 "nbformat": 4,
 "nbformat_minor": 4
}
