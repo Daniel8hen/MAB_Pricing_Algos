{
 "cells": [
  {
   "cell_type": "code",
   "execution_count": 1,
   "metadata": {},
   "outputs": [],
   "source": [
    "import sys, random\n",
    "import matplotlib.pyplot as plt\n",
    "from contextualbandits import online as cb\n",
    "from copy import deepcopy as clone\n",
    "import numpy as np\n",
    "import pandas as pd\n",
    "# Only classifiers that have partial_fit are relevant\n",
    "# See: https://scikit-learn.org/0.15/modules/scaling_strategies.html\n",
    "from sklearn.linear_model import SGDClassifier\n",
    "%matplotlib inline"
   ]
  },
  {
   "cell_type": "code",
   "execution_count": 2,
   "metadata": {},
   "outputs": [
    {
     "data": {
      "text/html": [
       "<div>\n",
       "<style scoped>\n",
       "    .dataframe tbody tr th:only-of-type {\n",
       "        vertical-align: middle;\n",
       "    }\n",
       "\n",
       "    .dataframe tbody tr th {\n",
       "        vertical-align: top;\n",
       "    }\n",
       "\n",
       "    .dataframe thead th {\n",
       "        text-align: right;\n",
       "    }\n",
       "</style>\n",
       "<table border=\"1\" class=\"dataframe\">\n",
       "  <thead>\n",
       "    <tr style=\"text-align: right;\">\n",
       "      <th></th>\n",
       "      <th>bid</th>\n",
       "      <th>hasWon</th>\n",
       "      <th>geo_DE</th>\n",
       "      <th>geo_GB</th>\n",
       "      <th>geo_US</th>\n",
       "      <th>deviceOs_Android</th>\n",
       "      <th>deviceOs_iOS</th>\n",
       "    </tr>\n",
       "  </thead>\n",
       "  <tbody>\n",
       "    <tr>\n",
       "      <th>0</th>\n",
       "      <td>29</td>\n",
       "      <td>False</td>\n",
       "      <td>0</td>\n",
       "      <td>1</td>\n",
       "      <td>0</td>\n",
       "      <td>1</td>\n",
       "      <td>0</td>\n",
       "    </tr>\n",
       "    <tr>\n",
       "      <th>1</th>\n",
       "      <td>542</td>\n",
       "      <td>True</td>\n",
       "      <td>1</td>\n",
       "      <td>0</td>\n",
       "      <td>0</td>\n",
       "      <td>0</td>\n",
       "      <td>1</td>\n",
       "    </tr>\n",
       "    <tr>\n",
       "      <th>2</th>\n",
       "      <td>2</td>\n",
       "      <td>False</td>\n",
       "      <td>0</td>\n",
       "      <td>1</td>\n",
       "      <td>0</td>\n",
       "      <td>1</td>\n",
       "      <td>0</td>\n",
       "    </tr>\n",
       "    <tr>\n",
       "      <th>3</th>\n",
       "      <td>421</td>\n",
       "      <td>False</td>\n",
       "      <td>0</td>\n",
       "      <td>1</td>\n",
       "      <td>0</td>\n",
       "      <td>0</td>\n",
       "      <td>1</td>\n",
       "    </tr>\n",
       "    <tr>\n",
       "      <th>4</th>\n",
       "      <td>399</td>\n",
       "      <td>False</td>\n",
       "      <td>0</td>\n",
       "      <td>0</td>\n",
       "      <td>1</td>\n",
       "      <td>1</td>\n",
       "      <td>0</td>\n",
       "    </tr>\n",
       "    <tr>\n",
       "      <th>...</th>\n",
       "      <td>...</td>\n",
       "      <td>...</td>\n",
       "      <td>...</td>\n",
       "      <td>...</td>\n",
       "      <td>...</td>\n",
       "      <td>...</td>\n",
       "      <td>...</td>\n",
       "    </tr>\n",
       "    <tr>\n",
       "      <th>495</th>\n",
       "      <td>607</td>\n",
       "      <td>False</td>\n",
       "      <td>0</td>\n",
       "      <td>0</td>\n",
       "      <td>1</td>\n",
       "      <td>1</td>\n",
       "      <td>0</td>\n",
       "    </tr>\n",
       "    <tr>\n",
       "      <th>496</th>\n",
       "      <td>324</td>\n",
       "      <td>False</td>\n",
       "      <td>0</td>\n",
       "      <td>0</td>\n",
       "      <td>1</td>\n",
       "      <td>1</td>\n",
       "      <td>0</td>\n",
       "    </tr>\n",
       "    <tr>\n",
       "      <th>497</th>\n",
       "      <td>697</td>\n",
       "      <td>True</td>\n",
       "      <td>0</td>\n",
       "      <td>1</td>\n",
       "      <td>0</td>\n",
       "      <td>1</td>\n",
       "      <td>0</td>\n",
       "    </tr>\n",
       "    <tr>\n",
       "      <th>498</th>\n",
       "      <td>248</td>\n",
       "      <td>False</td>\n",
       "      <td>0</td>\n",
       "      <td>0</td>\n",
       "      <td>1</td>\n",
       "      <td>1</td>\n",
       "      <td>0</td>\n",
       "    </tr>\n",
       "    <tr>\n",
       "      <th>499</th>\n",
       "      <td>83</td>\n",
       "      <td>False</td>\n",
       "      <td>0</td>\n",
       "      <td>1</td>\n",
       "      <td>0</td>\n",
       "      <td>1</td>\n",
       "      <td>0</td>\n",
       "    </tr>\n",
       "  </tbody>\n",
       "</table>\n",
       "<p>500 rows × 7 columns</p>\n",
       "</div>"
      ],
      "text/plain": [
       "     bid  hasWon  geo_DE  geo_GB  geo_US  deviceOs_Android  deviceOs_iOS\n",
       "0     29   False       0       1       0                 1             0\n",
       "1    542    True       1       0       0                 0             1\n",
       "2      2   False       0       1       0                 1             0\n",
       "3    421   False       0       1       0                 0             1\n",
       "4    399   False       0       0       1                 1             0\n",
       "..   ...     ...     ...     ...     ...               ...           ...\n",
       "495  607   False       0       0       1                 1             0\n",
       "496  324   False       0       0       1                 1             0\n",
       "497  697    True       0       1       0                 1             0\n",
       "498  248   False       0       0       1                 1             0\n",
       "499   83   False       0       1       0                 1             0\n",
       "\n",
       "[500 rows x 7 columns]"
      ]
     },
     "execution_count": 2,
     "metadata": {},
     "output_type": "execute_result"
    }
   ],
   "source": [
    "prices_dict = {\n",
    "     ('US', 'Android'):7,\n",
    "     ('GB', 'Android'):5,\n",
    "     ('DE', 'Android'):4,\n",
    "     ('US', 'iOS'):9,\n",
    "     ('GB', 'iOS'):6,\n",
    "     ('DE', 'iOS'):5,\n",
    "              }\n",
    "\n",
    "\n",
    "def synthesize_data(prices_dict, n=10, epsilon=0.01, drop=[]):\n",
    "    \"\"\"This function generates data \n",
    "    Parameters:\n",
    "        prices_dict: dictionary holds relevant context and historical prices - geo + deviceOs\n",
    "        n: dataset size\n",
    "        epsilon: noise for price decision\n",
    "    Returns:\n",
    "        df: Pandas DataFrame\n",
    "    \"\"\"\n",
    "    data = []\n",
    "    for i in range(n):\n",
    "        geo = random.choice([\"US\",\"US\",\"US\",\"US\",\"US\", \"GB\",\"GB\", \"DE\"])\n",
    "        deviceOs = random.choice(['iOS', 'Android'])\n",
    "        bid = random.randint(1,1000)\n",
    "        has_won = (bid/100) >= prices_dict[(geo, deviceOs)] + 2 * epsilon * (random.random() - 0.5)\n",
    "        data.append((geo, deviceOs, bid, has_won))\n",
    "    df = pd.DataFrame(data, columns = ['geo', 'deviceOs', 'bid', 'hasWon'])\n",
    "    if drop:\n",
    "        df.drop(drop, inplace=True, axis=1)\n",
    "    return pd.get_dummies(df)\n",
    "\n",
    "\n",
    "df = synthesize_data(prices_dict, n=500)\n",
    "df"
   ]
  },
  {
   "cell_type": "code",
   "execution_count": 3,
   "metadata": {},
   "outputs": [],
   "source": [
    "X = df.drop([\"hasWon\", \"bid\"], axis=1)\n",
    "r = df['hasWon']\n",
    "a = df[\"bid\"]"
   ]
  },
  {
   "cell_type": "markdown",
   "metadata": {},
   "source": [
    "# Read data & preprocess"
   ]
  },
  {
   "cell_type": "markdown",
   "metadata": {},
   "source": [
    "# Contextual bandits"
   ]
  },
  {
   "cell_type": "code",
   "execution_count": 4,
   "metadata": {},
   "outputs": [],
   "source": [
    "class SGDClassifierWithNormalization(SGDClassifier):\n",
    "    def __init__(self, loss, desired_win_rate, eps=0.0001, normalizing_factor=1e-3, **kwargs):\n",
    "        super().__init__(loss, **kwargs)\n",
    "        self.desired_win_rate = desired_win_rate\n",
    "        self.eps = eps\n",
    "        self.normalizing_factor=normalizing_factor\n",
    "        \n",
    "    def predict_proba(self, X):\n",
    "        probs = super().predict_proba(X)[:, 1] # predict proba as of any predict_proba model classifier\n",
    "        y = 1 / np.abs(probs - self.desired_win_rate + self.eps) # Numerical stability\n",
    "        y = 1 - np.exp(-y*self.normalizing_factor) # Normalize\n",
    "        \n",
    "        return np.vstack((1-y, y)).T"
   ]
  },
  {
   "cell_type": "code",
   "execution_count": null,
   "metadata": {},
   "outputs": [],
   "source": []
  },
  {
   "cell_type": "code",
   "execution_count": 5,
   "metadata": {
    "scrolled": true
   },
   "outputs": [],
   "source": [
    "n_arms = 1000 # number of bins\n",
    "bids = np.arange(0,1001)\n",
    "base_model = SGDClassifierWithNormalization(desired_win_rate=0.9, loss='log')\n",
    "# SeperateClassifiers, there are many strategies for sampling\n",
    "logreg_sg = cb.SeparateClassifiers(clone(base_model), n_arms, batch_train=True)"
   ]
  },
  {
   "cell_type": "code",
   "execution_count": 6,
   "metadata": {},
   "outputs": [],
   "source": [
    "def multiple_update(train_X,train_a,train_r):\n",
    "    \"\"\"\n",
    "    If we won with a $5 bid, update also $6, $7 etc... with a 'win' rewards\n",
    "    If we lost with a $5 bid, update also $4, $3 etc... with a 'lose' rewards\n",
    "    \"\"\"\n",
    "    temp_df = pd.concat([train_X,train_a,train_r], axis=1)\n",
    "    temp_df[\"arms\"] = temp_df.apply(lambda row: [a for a in bids if a>=row[\"bid\"]] if row[\"hasWon\"] else\n",
    "                          [a for a in bids if a<=row[\"bid\"]],axis=1)\n",
    "    temp_df = temp_df.drop(\"bid\", axis=1).explode(\"arms\")\n",
    "    train_X = temp_df.drop([\"hasWon\",\"arms\"],axis=1)\n",
    "    train_r = temp_df[\"hasWon\"]\n",
    "    train_a = temp_df[\"arms\"]\n",
    "    return train_X,train_a,train_r\n",
    "\n",
    "def simulate(model, X, a , r,chunk = 10):\n",
    "    X,a,r=map(clone,[X,a,r]) # copy the existing data so we won't change it\n",
    "    \n",
    "    train_X, train_a, train_r = X.iloc[:chunk,:], a[:chunk], r[:chunk]\n",
    "    # split the data into train\n",
    "    # Get chunk data points for first input\n",
    "    X, a, r = X.iloc[chunk:,:], a[chunk:], r[chunk:]\n",
    "    test_X, test_a, test_r = X.iloc[:chunk,:], a[:chunk], r[:chunk]\n",
    "    regrets = []\n",
    "    #TODO: Add initial train\n",
    "    model.partial_fit(train_X,train_a,train_r)\n",
    "    while len(X)>chunk:\n",
    "        train_X,train_a,train_r = multiple_update(train_X,train_a,train_r)\n",
    "        model.partial_fit(train_X,train_a,train_r)\n",
    "        pred_bids = model.predict(test_X)\n",
    "        assert chunk==len(test_a) and chunk==len(pred_bids)\n",
    "        regret = np.mean([np.abs(b-y) for b,y in zip(pred_bids,test_a.values)])\n",
    "        regrets.append(regret)\n",
    "        train_X, train_a, train_r    = X.iloc[:chunk,:], a[:chunk], r[:chunk]\n",
    "        X, a, r = X.iloc[chunk:,:], a[chunk:], r[chunk:]\n",
    "        test_X, test_a, test_r = X.iloc[:chunk,:], a[:chunk], r[:chunk]\n",
    "            \n",
    "    return regrets"
   ]
  },
  {
   "cell_type": "markdown",
   "metadata": {},
   "source": [
    "# plot"
   ]
  },
  {
   "cell_type": "code",
   "execution_count": 7,
   "metadata": {},
   "outputs": [
    {
     "data": {
      "text/plain": [
       "Text(0.5, 0, 'iterations')"
      ]
     },
     "execution_count": 7,
     "metadata": {},
     "output_type": "execute_result"
    },
    {
     "data": {
      "image/png": "[encoded data removed]",
      "text/plain": [
       "<Figure size 432x288 with 1 Axes>"
      ]
     },
     "metadata": {
      "needs_background": "light"
     },
     "output_type": "display_data"
    }
   ],
   "source": [
    "regret = simulate(logreg_sg, X, a, r)\n",
    "plt.plot(np.arange(len(regret)), regret)\n",
    "plt.ylabel(\"regret\")\n",
    "plt.xlabel(\"iterations\")"
   ]
  },
  {
   "cell_type": "code",
   "execution_count": 8,
   "metadata": {},
   "outputs": [
    {
     "data": {
      "text/plain": [
       "Text(0.5, 0, 'iterations')"
      ]
     },
     "execution_count": 8,
     "metadata": {},
     "output_type": "execute_result"
    },
    {
     "data": {
      "image/png": "[encoded data removed]",
      "text/plain": [
       "<Figure size 432x288 with 1 Axes>"
      ]
     },
     "metadata": {
      "needs_background": "light"
     },
     "output_type": "display_data"
    }
   ],
   "source": [
    "window_size=10\n",
    "regret_smooth=np.convolve(regret,np.ones(window_size), 'valid')/window_size\n",
    "plt.plot(np.arange(len(regret_smooth)), regret_smooth)\n",
    "plt.ylabel(\"regret\")\n",
    "plt.xlabel(\"iterations\")\n",
    "# plt.ylim((0,0.3))"
   ]
  },
  {
   "cell_type": "markdown",
   "metadata": {},
   "source": [
    "# Context-wise analysis"
   ]
  },
  {
   "cell_type": "code",
   "execution_count": 9,
   "metadata": {},
   "outputs": [
    {
     "name": "stdout",
     "output_type": "stream",
     "text": [
      "Index(['geo_DE', 'geo_GB', 'geo_US', 'deviceOs_Android', 'deviceOs_iOS'], dtype='object')\n"
     ]
    },
    {
     "data": {
      "text/plain": [
       "{'choice': array([719, 572, 420, 896, 594, 504]),\n",
       " 'score': array([[0.01084347],\n",
       "        [0.05179493],\n",
       "        [0.01965117],\n",
       "        [0.03271964],\n",
       "        [0.01110906],\n",
       "        [0.06428265]]),\n",
       " 'bid': [719, 572, 420, 896, 594, 504]}"
      ]
     },
     "execution_count": 9,
     "metadata": {},
     "output_type": "execute_result"
    }
   ],
   "source": [
    "print(X.columns)\n",
    "pred = logreg_sg.predict(np.array([\n",
    "    [0,0,1,1,0], # US, Android\n",
    "    [0,1,0,1,0], # GB, Android\n",
    "    [1,0,0,1,0], # DE, Android\n",
    "    [0,0,1,0,1], # US, IOS\n",
    "    [0,1,0,0,1], # GB, IOS\n",
    "    [1,0,0,0,1], # DE, IOS\n",
    "]), output_score=True)\n",
    "pred[\"bid\"] = [bids[y] for y in pred['choice']]\n",
    "pred"
   ]
  },
  {
   "cell_type": "code",
   "execution_count": 10,
   "metadata": {},
   "outputs": [
    {
     "data": {
      "text/html": [
       "<div>\n",
       "<style scoped>\n",
       "    .dataframe tbody tr th:only-of-type {\n",
       "        vertical-align: middle;\n",
       "    }\n",
       "\n",
       "    .dataframe tbody tr th {\n",
       "        vertical-align: top;\n",
       "    }\n",
       "\n",
       "    .dataframe thead th {\n",
       "        text-align: right;\n",
       "    }\n",
       "</style>\n",
       "<table border=\"1\" class=\"dataframe\">\n",
       "  <thead>\n",
       "    <tr style=\"text-align: right;\">\n",
       "      <th></th>\n",
       "      <th>geo</th>\n",
       "      <th>deviceOs</th>\n",
       "      <th>actual</th>\n",
       "      <th>bid</th>\n",
       "    </tr>\n",
       "  </thead>\n",
       "  <tbody>\n",
       "    <tr>\n",
       "      <th>0</th>\n",
       "      <td>US</td>\n",
       "      <td>Android</td>\n",
       "      <td>7</td>\n",
       "      <td>7.19</td>\n",
       "    </tr>\n",
       "    <tr>\n",
       "      <th>1</th>\n",
       "      <td>GB</td>\n",
       "      <td>Android</td>\n",
       "      <td>5</td>\n",
       "      <td>5.72</td>\n",
       "    </tr>\n",
       "    <tr>\n",
       "      <th>2</th>\n",
       "      <td>DE</td>\n",
       "      <td>Android</td>\n",
       "      <td>4</td>\n",
       "      <td>4.20</td>\n",
       "    </tr>\n",
       "    <tr>\n",
       "      <th>3</th>\n",
       "      <td>US</td>\n",
       "      <td>iOS</td>\n",
       "      <td>9</td>\n",
       "      <td>8.96</td>\n",
       "    </tr>\n",
       "    <tr>\n",
       "      <th>4</th>\n",
       "      <td>GB</td>\n",
       "      <td>iOS</td>\n",
       "      <td>6</td>\n",
       "      <td>5.94</td>\n",
       "    </tr>\n",
       "    <tr>\n",
       "      <th>5</th>\n",
       "      <td>DE</td>\n",
       "      <td>iOS</td>\n",
       "      <td>5</td>\n",
       "      <td>5.04</td>\n",
       "    </tr>\n",
       "  </tbody>\n",
       "</table>\n",
       "</div>"
      ],
      "text/plain": [
       "  geo deviceOs  actual   bid\n",
       "0  US  Android       7  7.19\n",
       "1  GB  Android       5  5.72\n",
       "2  DE  Android       4  4.20\n",
       "3  US      iOS       9  8.96\n",
       "4  GB      iOS       6  5.94\n",
       "5  DE      iOS       5  5.04"
      ]
     },
     "execution_count": 10,
     "metadata": {},
     "output_type": "execute_result"
    }
   ],
   "source": [
    "df_summary = \\\n",
    "pd.DataFrame([(p[0][0], p[0][1], p[1], c/100) for p,c in zip(prices_dict.items(), pred[\"choice\"])],\n",
    "            columns=[\"geo\", \"deviceOs\", \"actual\", \"bid\"])\n",
    "df_summary"
   ]
  },
  {
   "cell_type": "code",
   "execution_count": 11,
   "metadata": {},
   "outputs": [
    {
     "data": {
      "text/plain": [
       "0.20833333333333318"
      ]
     },
     "execution_count": 11,
     "metadata": {},
     "output_type": "execute_result"
    }
   ],
   "source": [
    "average_regret = (df_summary[\"actual\"]-df_summary[\"bid\"]).abs().sum()/len(pred[\"choice\"])\n",
    "average_regret"
   ]
  },
  {
   "cell_type": "markdown",
   "metadata": {},
   "source": [
    "# Smaller context\n",
    "## Only Device Os"
   ]
  },
  {
   "cell_type": "code",
   "execution_count": 12,
   "metadata": {},
   "outputs": [
    {
     "name": "stdout",
     "output_type": "stream",
     "text": [
      "Index(['deviceOs_Android', 'deviceOs_iOS'], dtype='object')\n"
     ]
    }
   ],
   "source": [
    "df = synthesize_data(prices_dict, n=500, drop='geo')\n",
    "X = df.drop([\"hasWon\", \"bid\"], axis=1)\n",
    "r = df['hasWon']\n",
    "a = df[\"bid\"]\n",
    "one_feature_model = cb.SeparateClassifiers(clone(base_model), n_arms, batch_train=True)\n",
    "simulate(one_feature_model, X, a, r)\n",
    "print(X.columns)"
   ]
  },
  {
   "cell_type": "code",
   "execution_count": 13,
   "metadata": {},
   "outputs": [
    {
     "data": {
      "text/plain": [
       "{'deviceOs_Android': 860, 'deviceOs_iOS': 889}"
      ]
     },
     "execution_count": 13,
     "metadata": {},
     "output_type": "execute_result"
    }
   ],
   "source": [
    "pred_bids = one_feature_model.predict(np.eye(X.shape[1]))\n",
    "one_feature_bid = dict(zip(X.columns, pred_bids))\n",
    "one_feature_bid"
   ]
  },
  {
   "cell_type": "code",
   "execution_count": 14,
   "metadata": {},
   "outputs": [
    {
     "data": {
      "text/plain": [
       "deviceOs\n",
       "Android    5.333333\n",
       "iOS        6.666667\n",
       "Name: actual, dtype: float64"
      ]
     },
     "execution_count": 14,
     "metadata": {},
     "output_type": "execute_result"
    }
   ],
   "source": [
    "df_summary.groupby(\"deviceOs\")[\"actual\"].mean()"
   ]
  },
  {
   "cell_type": "markdown",
   "metadata": {},
   "source": [
    "## Only Device Geo"
   ]
  },
  {
   "cell_type": "code",
   "execution_count": 15,
   "metadata": {},
   "outputs": [
    {
     "name": "stdout",
     "output_type": "stream",
     "text": [
      "Index(['geo_DE', 'geo_GB', 'geo_US'], dtype='object')\n"
     ]
    }
   ],
   "source": [
    "df = synthesize_data(prices_dict, n=500, drop='deviceOs')\n",
    "X = df.drop([\"hasWon\", \"bid\"], axis=1)\n",
    "r = df['hasWon']\n",
    "a = df[\"bid\"]\n",
    "one_feature_model = cb.SeparateClassifiers(clone(base_model), n_arms, batch_train=True)\n",
    "simulate(one_feature_model, X, a, r)\n",
    "print(X.columns)"
   ]
  },
  {
   "cell_type": "code",
   "execution_count": 16,
   "metadata": {},
   "outputs": [
    {
     "data": {
      "text/plain": [
       "{'geo_DE': 471, 'geo_GB': 908, 'geo_US': 873}"
      ]
     },
     "execution_count": 16,
     "metadata": {},
     "output_type": "execute_result"
    }
   ],
   "source": [
    "pred_bids = one_feature_model.predict(np.eye(X.shape[1]))\n",
    "one_feature_bid = dict(zip(X.columns, pred_bids))\n",
    "one_feature_bid"
   ]
  },
  {
   "cell_type": "code",
   "execution_count": 17,
   "metadata": {},
   "outputs": [
    {
     "data": {
      "text/plain": [
       "geo\n",
       "DE    4.5\n",
       "GB    5.5\n",
       "US    8.0\n",
       "Name: actual, dtype: float64"
      ]
     },
     "execution_count": 17,
     "metadata": {},
     "output_type": "execute_result"
    }
   ],
   "source": [
    "df_summary.groupby(\"geo\")[\"actual\"].mean()"
   ]
  }
 ],
 "metadata": {
  "kernelspec": {
   "display_name": "Python 3",
   "language": "python",
   "name": "python3"
  },
  "language_info": {
   "codemirror_mode": {
    "name": "ipython",
    "version": 3
   },
   "file_extension": ".py",
   "mimetype": "text/x-python",
   "name": "python",
   "nbconvert_exporter": "python",
   "pygments_lexer": "ipython3",
   "version": "3.6.9"
  }
 },
 "nbformat": 4,
 "nbformat_minor": 4
}
